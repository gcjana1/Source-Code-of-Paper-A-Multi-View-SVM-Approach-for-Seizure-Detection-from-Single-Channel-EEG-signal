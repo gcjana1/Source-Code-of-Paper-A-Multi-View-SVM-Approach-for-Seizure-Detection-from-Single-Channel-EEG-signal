{
 "cells": [
  {
   "cell_type": "code",
   "execution_count": null,
   "metadata": {
    "collapsed": true,
    "id": "w6hmv53DV3yh"
   },
   "outputs": [],
   "source": [
    "#Details: This source code is for publised work: Gopal Chandra Jana, Mogullapally Sai Praneeth and Anupam Agrawal\"A Multi-View SVM Approach for Seizure Detection from Single Channel EEG signals\" \n",
    "IETE Journal of Research,Taylor & Francis, DOI: https://doi.org/10.1080/03772063.2021.1913074.\n",
    "\n",
    "All coyright(including figures) resived of by: IETE Journal of Research,Taylor & Francis\n",
    "#Authors Affiliation: IIIT Allahabad, IIT Bhubaneswar\n",
    "#mail : gcjana@gcjana.in, msp10@iitbbs.ac.in\n",
    "Cite as: \n"
   ]
  },
  {
   "cell_type": "code",
   "execution_count": null,
   "metadata": {
    "colab": {
     "base_uri": "https://localhost:8080/",
     "height": 1000
    },
    "collapsed": false,
    "id": "gIV5_yBhRJrr",
    "outputId": "3063e999-3201-4069-ac05-bb65c626db6c"
   },
   "outputs": [
    {
     "name": "stdout",
     "output_type": "stream",
     "text": [
      "--2020-10-04 15:56:39--  http://epileptologie-bonn.de/cms/upload/workgroup/lehnertz/Z.zip\n",
      "Resolving epileptologie-bonn.de (epileptologie-bonn.de)... 83.169.36.208\n",
      "Connecting to epileptologie-bonn.de (epileptologie-bonn.de)|83.169.36.208|:80... connected.\n",
      "HTTP request sent, awaiting response... 200 OK\n",
      "Length: 578047 (564K) [application/zip]\n",
      "Saving to: ‘Z.zip’\n",
      "\n",
      "Z.zip               100%[===================>] 564.50K   300KB/s    in 1.9s    \n",
      "\n",
      "2020-10-04 15:56:42 (300 KB/s) - ‘Z.zip’ saved [578047/578047]\n",
      "\n",
      "--2020-10-04 15:56:42--  http://epileptologie-bonn.de/cms/upload/workgroup/lehnertz/O.zip\n",
      "Resolving epileptologie-bonn.de (epileptologie-bonn.de)... 83.169.36.208\n",
      "Connecting to epileptologie-bonn.de (epileptologie-bonn.de)|83.169.36.208|:80... connected.\n",
      "HTTP request sent, awaiting response... 200 OK\n",
      "Length: 625970 (611K) [application/zip]\n",
      "Saving to: ‘O.zip’\n",
      "\n",
      "O.zip               100%[===================>] 611.30K   359KB/s    in 1.7s    \n",
      "\n",
      "2020-10-04 15:56:44 (359 KB/s) - ‘O.zip’ saved [625970/625970]\n",
      "\n",
      "--2020-10-04 15:56:44--  http://epileptologie-bonn.de/cms/upload/workgroup/lehnertz/N.zip\n",
      "Resolving epileptologie-bonn.de (epileptologie-bonn.de)... 83.169.36.208\n",
      "Connecting to epileptologie-bonn.de (epileptologie-bonn.de)|83.169.36.208|:80... connected.\n",
      "HTTP request sent, awaiting response... 200 OK\n",
      "Length: 574452 (561K) [application/zip]\n",
      "Saving to: ‘N.zip’\n",
      "\n",
      "N.zip               100%[===================>] 560.99K   355KB/s    in 1.6s    \n",
      "\n",
      "2020-10-04 15:56:46 (355 KB/s) - ‘N.zip’ saved [574452/574452]\n",
      "\n",
      "--2020-10-04 15:56:46--  http://epileptologie-bonn.de/cms/upload/workgroup/lehnertz/F.zip\n",
      "Resolving epileptologie-bonn.de (epileptologie-bonn.de)... 83.169.36.208\n",
      "Connecting to epileptologie-bonn.de (epileptologie-bonn.de)|83.169.36.208|:80... connected.\n",
      "HTTP request sent, awaiting response... 200 OK\n",
      "Length: 582967 (569K) [application/zip]\n",
      "Saving to: ‘F.zip’\n",
      "\n",
      "F.zip               100%[===================>] 569.30K   366KB/s    in 1.6s    \n",
      "\n",
      "2020-10-04 15:56:48 (366 KB/s) - ‘F.zip’ saved [582967/582967]\n",
      "\n",
      "--2020-10-04 15:56:48--  http://epileptologie-bonn.de/cms/upload/workgroup/lehnertz/S.zip\n",
      "Resolving epileptologie-bonn.de (epileptologie-bonn.de)... 83.169.36.208\n",
      "Connecting to epileptologie-bonn.de (epileptologie-bonn.de)|83.169.36.208|:80... connected.\n",
      "HTTP request sent, awaiting response... 200 OK\n",
      "Length: 764359 (746K) [application/zip]\n",
      "Saving to: ‘S.zip’\n",
      "\n",
      "S.zip               100%[===================>] 746.44K   398KB/s    in 1.9s    \n",
      "\n",
      "2020-10-04 15:56:51 (398 KB/s) - ‘S.zip’ saved [764359/764359]\n",
      "\n",
      "Archive:  Z.zip\n",
      "  inflating: Set A/Z092.txt          \n",
      "  inflating: Set A/Z002.txt          \n",
      "  inflating: Set A/Z003.txt          \n",
      "  inflating: Set A/Z004.txt          \n",
      "  inflating: Set A/Z005.txt          \n",
      "  inflating: Set A/Z006.txt          \n",
      "  inflating: Set A/Z007.txt          \n",
      "  inflating: Set A/Z008.txt          \n",
      "  inflating: Set A/Z009.txt          \n",
      "  inflating: Set A/Z010.txt          \n",
      "  inflating: Set A/Z011.txt          \n",
      "  inflating: Set A/Z012.txt          \n",
      "  inflating: Set A/Z013.txt          \n",
      "  inflating: Set A/Z014.txt          \n",
      "  inflating: Set A/Z015.txt          \n",
      "  inflating: Set A/Z016.txt          \n",
      "  inflating: Set A/Z017.txt          \n",
      "  inflating: Set A/Z018.txt          \n",
      "  inflating: Set A/Z019.txt          \n",
      "  inflating: Set A/Z020.txt          \n",
      "  inflating: Set A/Z021.txt          \n",
      "  inflating: Set A/Z022.txt          \n",
      "  inflating: Set A/Z023.txt          \n",
      "  inflating: Set A/Z024.txt          \n",
      "  inflating: Set A/Z025.txt          \n",
      "  inflating: Set A/Z026.txt          \n",
      "  inflating: Set A/Z027.txt          \n",
      "  inflating: Set A/Z028.txt          \n",
      "  inflating: Set A/Z029.txt          \n",
      "  inflating: Set A/Z030.txt          \n",
      "  inflating: Set A/Z031.txt          \n",
      "  inflating: Set A/Z032.txt          \n",
      "  inflating: Set A/Z033.txt          \n",
      "  inflating: Set A/Z034.txt          \n",
      "  inflating: Set A/Z035.txt          \n",
      "  inflating: Set A/Z036.txt          \n",
      "  inflating: Set A/Z037.txt          \n",
      "  inflating: Set A/Z038.txt          \n",
      "  inflating: Set A/Z039.txt          \n",
      "  inflating: Set A/Z040.txt          \n",
      "  inflating: Set A/Z041.txt          \n",
      "  inflating: Set A/Z042.txt          \n",
      "  inflating: Set A/Z043.txt          \n",
      "  inflating: Set A/Z044.txt          \n",
      "  inflating: Set A/Z045.txt          \n",
      "  inflating: Set A/Z046.txt          \n",
      "  inflating: Set A/Z047.txt          \n",
      "  inflating: Set A/Z048.txt          \n",
      "  inflating: Set A/Z049.txt          \n",
      "  inflating: Set A/Z050.txt          \n",
      "  inflating: Set A/Z051.txt          \n",
      "  inflating: Set A/Z052.txt          \n",
      "  inflating: Set A/Z053.txt          \n",
      "  inflating: Set A/Z054.txt          \n",
      "  inflating: Set A/Z055.txt          \n",
      "  inflating: Set A/Z056.txt          \n",
      "  inflating: Set A/Z057.txt          \n",
      "  inflating: Set A/Z058.txt          \n",
      "  inflating: Set A/Z059.txt          \n",
      "  inflating: Set A/Z060.txt          \n",
      "  inflating: Set A/Z061.txt          \n",
      "  inflating: Set A/Z062.txt          \n",
      "  inflating: Set A/Z063.txt          \n",
      "  inflating: Set A/Z064.txt          \n",
      "  inflating: Set A/Z065.txt          \n",
      "  inflating: Set A/Z066.txt          \n",
      "  inflating: Set A/Z067.txt          \n",
      "  inflating: Set A/Z068.txt          \n",
      "  inflating: Set A/Z069.txt          \n",
      "  inflating: Set A/Z070.txt          \n",
      "  inflating: Set A/Z071.txt          \n",
      "  inflating: Set A/Z072.txt          \n",
      "  inflating: Set A/Z073.txt          \n",
      "  inflating: Set A/Z074.txt          \n",
      "  inflating: Set A/Z075.txt          \n",
      "  inflating: Set A/Z076.txt          \n",
      "  inflating: Set A/Z077.txt          \n",
      "  inflating: Set A/Z078.txt          \n",
      "  inflating: Set A/Z079.txt          \n",
      "  inflating: Set A/Z080.txt          \n",
      "  inflating: Set A/Z081.txt          \n",
      "  inflating: Set A/Z082.txt          \n",
      "  inflating: Set A/Z083.txt          \n",
      "  inflating: Set A/Z084.txt          \n",
      "  inflating: Set A/Z085.txt          \n",
      "  inflating: Set A/Z086.txt          \n",
      "  inflating: Set A/Z087.txt          \n",
      "  inflating: Set A/Z088.txt          \n",
      "  inflating: Set A/Z089.txt          \n",
      "  inflating: Set A/Z090.txt          \n",
      "  inflating: Set A/Z091.txt          \n",
      "  inflating: Set A/Z001.txt          \n",
      "  inflating: Set A/Z093.txt          \n",
      "  inflating: Set A/Z094.txt          \n",
      "  inflating: Set A/Z095.txt          \n",
      "  inflating: Set A/Z096.txt          \n",
      "  inflating: Set A/Z097.txt          \n",
      "  inflating: Set A/Z098.txt          \n",
      "  inflating: Set A/Z099.txt          \n",
      "  inflating: Set A/Z100.txt          \n",
      "Archive:  O.zip\n",
      "  inflating: Set B/O099.txt          \n",
      "  inflating: Set B/O100.txt          \n",
      "  inflating: Set B/O098.txt          \n",
      "  inflating: Set B/O097.txt          \n",
      "  inflating: Set B/O096.txt          \n",
      "  inflating: Set B/O095.txt          \n",
      "  inflating: Set B/O094.txt          \n",
      "  inflating: Set B/O093.txt          \n",
      "  inflating: Set B/O092.txt          \n",
      "  inflating: Set B/O091.txt          \n",
      "  inflating: Set B/O090.txt          \n",
      "  inflating: Set B/O089.txt          \n",
      "  inflating: Set B/O088.txt          \n",
      "  inflating: Set B/O087.txt          \n",
      "  inflating: Set B/O086.txt          \n",
      "  inflating: Set B/O085.txt          \n",
      "  inflating: Set B/O084.txt          \n",
      "  inflating: Set B/O083.txt          \n",
      "  inflating: Set B/O082.txt          \n",
      "  inflating: Set B/O081.txt          \n",
      "  inflating: Set B/O080.txt          \n",
      "  inflating: Set B/O079.txt          \n",
      "  inflating: Set B/O078.txt          \n",
      "  inflating: Set B/O077.txt          \n",
      "  inflating: Set B/O076.txt          \n",
      "  inflating: Set B/O075.txt          \n",
      "  inflating: Set B/O074.txt          \n",
      "  inflating: Set B/O073.txt          \n",
      "  inflating: Set B/O072.txt          \n",
      "  inflating: Set B/O071.txt          \n",
      "  inflating: Set B/O070.txt          \n",
      "  inflating: Set B/O069.txt          \n",
      "  inflating: Set B/O068.txt          \n",
      "  inflating: Set B/O067.txt          \n",
      "  inflating: Set B/O066.txt          \n",
      "  inflating: Set B/O065.txt          \n",
      "  inflating: Set B/O064.txt          \n",
      "  inflating: Set B/O063.txt          \n",
      "  inflating: Set B/O062.txt          \n",
      "  inflating: Set B/O061.txt          \n",
      "  inflating: Set B/O060.txt          \n",
      "  inflating: Set B/O059.txt          \n",
      "  inflating: Set B/O058.txt          \n",
      "  inflating: Set B/O057.txt          \n",
      "  inflating: Set B/O056.txt          \n",
      "  inflating: Set B/O055.txt          \n",
      "  inflating: Set B/O054.txt          \n",
      "  inflating: Set B/O053.txt          \n",
      "  inflating: Set B/O052.txt          \n",
      "  inflating: Set B/O051.txt          \n",
      "  inflating: Set B/O050.txt          \n",
      "  inflating: Set B/O049.txt          \n",
      "  inflating: Set B/O048.txt          \n",
      "  inflating: Set B/O047.txt          \n",
      "  inflating: Set B/O046.txt          \n",
      "  inflating: Set B/O045.txt          \n",
      "  inflating: Set B/O044.txt          \n",
      "  inflating: Set B/O043.txt          \n",
      "  inflating: Set B/O042.txt          \n",
      "  inflating: Set B/O041.txt          \n",
      "  inflating: Set B/O040.txt          \n",
      "  inflating: Set B/O039.txt          \n",
      "  inflating: Set B/O038.txt          \n",
      "  inflating: Set B/O037.txt          \n",
      "  inflating: Set B/O036.txt          \n",
      "  inflating: Set B/O035.txt          \n",
      "  inflating: Set B/O034.txt          \n",
      "  inflating: Set B/O033.txt          \n",
      "  inflating: Set B/O032.txt          \n",
      "  inflating: Set B/O031.txt          \n",
      "  inflating: Set B/O030.txt          \n",
      "  inflating: Set B/O029.txt          \n",
      "  inflating: Set B/O028.txt          \n",
      "  inflating: Set B/O027.txt          \n",
      "  inflating: Set B/O026.txt          \n",
      "  inflating: Set B/O025.txt          \n",
      "  inflating: Set B/O024.txt          \n",
      "  inflating: Set B/O023.txt          \n",
      "  inflating: Set B/O022.txt          \n",
      "  inflating: Set B/O021.txt          \n",
      "  inflating: Set B/O020.txt          \n",
      "  inflating: Set B/O019.txt          \n",
      "  inflating: Set B/O018.txt          \n",
      "  inflating: Set B/O017.txt          \n",
      "  inflating: Set B/O016.txt          \n",
      "  inflating: Set B/O015.txt          \n",
      "  inflating: Set B/O014.txt          \n",
      "  inflating: Set B/O013.txt          \n",
      "  inflating: Set B/O012.txt          \n",
      "  inflating: Set B/O011.txt          \n",
      "  inflating: Set B/O010.txt          \n",
      "  inflating: Set B/O009.txt          \n",
      "  inflating: Set B/O008.txt          \n",
      "  inflating: Set B/O007.txt          \n",
      "  inflating: Set B/O006.txt          \n",
      "  inflating: Set B/O005.txt          \n",
      "  inflating: Set B/O004.txt          \n",
      "  inflating: Set B/O003.txt          \n",
      "  inflating: Set B/O002.txt          \n",
      "  inflating: Set B/O001.txt          \n",
      "Archive:  N.zip\n",
      "  inflating: Set C/N001.TXT          \n",
      "  inflating: Set C/N099.TXT          \n",
      "  inflating: Set C/N098.TXT          \n",
      "  inflating: Set C/N097.TXT          \n",
      "  inflating: Set C/N096.TXT          \n",
      "  inflating: Set C/N095.TXT          \n",
      "  inflating: Set C/N094.TXT          \n",
      "  inflating: Set C/N093.TXT          \n",
      "  inflating: Set C/N092.TXT          \n",
      "  inflating: Set C/N091.TXT          \n",
      "  inflating: Set C/N090.TXT          \n",
      "  inflating: Set C/N089.TXT          \n",
      "  inflating: Set C/N088.TXT          \n",
      "  inflating: Set C/N087.TXT          \n",
      "  inflating: Set C/N086.TXT          \n",
      "  inflating: Set C/N085.TXT          \n",
      "  inflating: Set C/N084.TXT          \n",
      "  inflating: Set C/N083.TXT          \n",
      "  inflating: Set C/N082.TXT          \n",
      "  inflating: Set C/N081.TXT          \n",
      "  inflating: Set C/N080.TXT          \n",
      "  inflating: Set C/N079.TXT          \n",
      "  inflating: Set C/N078.TXT          \n",
      "  inflating: Set C/N077.TXT          \n",
      "  inflating: Set C/N076.TXT          \n",
      "  inflating: Set C/N075.TXT          \n",
      "  inflating: Set C/N074.TXT          \n",
      "  inflating: Set C/N073.TXT          \n",
      "  inflating: Set C/N072.TXT          \n",
      "  inflating: Set C/N071.TXT          \n",
      "  inflating: Set C/N070.TXT          \n",
      "  inflating: Set C/N069.TXT          \n",
      "  inflating: Set C/N068.TXT          \n",
      "  inflating: Set C/N067.TXT          \n",
      "  inflating: Set C/N066.TXT          \n",
      "  inflating: Set C/N065.TXT          \n",
      "  inflating: Set C/N064.TXT          \n",
      "  inflating: Set C/N063.TXT          \n",
      "  inflating: Set C/N062.TXT          \n",
      "  inflating: Set C/N061.TXT          \n",
      "  inflating: Set C/N060.TXT          \n",
      "  inflating: Set C/N059.TXT          \n",
      "  inflating: Set C/N058.TXT          \n",
      "  inflating: Set C/N057.TXT          \n",
      "  inflating: Set C/N056.TXT          \n",
      "  inflating: Set C/N055.TXT          \n",
      "  inflating: Set C/N054.TXT          \n",
      "  inflating: Set C/N053.TXT          \n",
      "  inflating: Set C/N052.TXT          \n",
      "  inflating: Set C/N051.TXT          \n",
      "  inflating: Set C/N050.TXT          \n",
      "  inflating: Set C/N049.TXT          \n",
      "  inflating: Set C/N048.TXT          \n",
      "  inflating: Set C/N047.TXT          \n",
      "  inflating: Set C/N046.TXT          \n",
      "  inflating: Set C/N045.TXT          \n",
      "  inflating: Set C/N044.TXT          \n",
      "  inflating: Set C/N043.TXT          \n",
      "  inflating: Set C/N042.TXT          \n",
      "  inflating: Set C/N041.TXT          \n",
      "  inflating: Set C/N040.TXT          \n",
      "  inflating: Set C/N039.TXT          \n",
      "  inflating: Set C/N038.TXT          \n",
      "  inflating: Set C/N037.TXT          \n",
      "  inflating: Set C/N036.TXT          \n",
      "  inflating: Set C/N035.TXT          \n",
      "  inflating: Set C/N034.TXT          \n",
      "  inflating: Set C/N033.TXT          \n",
      "  inflating: Set C/N032.TXT          \n",
      "  inflating: Set C/N031.TXT          \n",
      "  inflating: Set C/N030.TXT          \n",
      "  inflating: Set C/N029.TXT          \n",
      "  inflating: Set C/N028.TXT          \n",
      "  inflating: Set C/N027.TXT          \n",
      "  inflating: Set C/N026.TXT          \n",
      "  inflating: Set C/N025.TXT          \n",
      "  inflating: Set C/N024.TXT          \n",
      "  inflating: Set C/N023.TXT          \n",
      "  inflating: Set C/N022.TXT          \n",
      "  inflating: Set C/N021.TXT          \n",
      "  inflating: Set C/N020.TXT          \n",
      "  inflating: Set C/N019.TXT          \n",
      "  inflating: Set C/N018.TXT          \n",
      "  inflating: Set C/N017.TXT          \n",
      "  inflating: Set C/N016.TXT          \n",
      "  inflating: Set C/N015.TXT          \n",
      "  inflating: Set C/N014.TXT          \n",
      "  inflating: Set C/N013.TXT          \n",
      "  inflating: Set C/N012.TXT          \n",
      "  inflating: Set C/N011.TXT          \n",
      "  inflating: Set C/N010.TXT          \n",
      "  inflating: Set C/N009.TXT          \n",
      "  inflating: Set C/N008.TXT          \n",
      "  inflating: Set C/N007.TXT          \n",
      "  inflating: Set C/N006.TXT          \n",
      "  inflating: Set C/N005.TXT          \n",
      "  inflating: Set C/N004.TXT          \n",
      "  inflating: Set C/N003.TXT          \n",
      "  inflating: Set C/N002.TXT          \n",
      "  inflating: Set C/N100.TXT          \n",
      "Archive:  F.zip\n",
      "  inflating: Set D/F100.txt          \n",
      "  inflating: Set D/F002.txt          \n",
      "  inflating: Set D/F003.txt          \n",
      "  inflating: Set D/F004.txt          \n",
      "  inflating: Set D/F005.txt          \n",
      "  inflating: Set D/F006.txt          \n",
      "  inflating: Set D/F007.txt          \n",
      "  inflating: Set D/F008.txt          \n",
      "  inflating: Set D/F009.txt          \n",
      "  inflating: Set D/F010.txt          \n",
      "  inflating: Set D/F011.txt          \n",
      "  inflating: Set D/F012.txt          \n",
      "  inflating: Set D/F013.txt          \n",
      "  inflating: Set D/F014.txt          \n",
      "  inflating: Set D/F015.txt          \n",
      "  inflating: Set D/F016.txt          \n",
      "  inflating: Set D/F017.txt          \n",
      "  inflating: Set D/F018.txt          \n",
      "  inflating: Set D/F019.txt          \n",
      "  inflating: Set D/F020.txt          \n",
      "  inflating: Set D/F021.txt          \n",
      "  inflating: Set D/F022.txt          \n",
      "  inflating: Set D/F023.txt          \n",
      "  inflating: Set D/F024.txt          \n",
      "  inflating: Set D/F025.txt          \n",
      "  inflating: Set D/F026.txt          \n",
      "  inflating: Set D/F027.txt          \n",
      "  inflating: Set D/F028.txt          \n",
      "  inflating: Set D/F029.txt          \n",
      "  inflating: Set D/F030.txt          \n",
      "  inflating: Set D/F031.txt          \n",
      "  inflating: Set D/F032.txt          \n",
      "  inflating: Set D/F033.txt          \n",
      "  inflating: Set D/F034.txt          \n",
      "  inflating: Set D/F035.txt          \n",
      "  inflating: Set D/F036.txt          \n",
      "  inflating: Set D/F037.txt          \n",
      "  inflating: Set D/F038.txt          \n",
      "  inflating: Set D/F039.txt          \n",
      "  inflating: Set D/F040.txt          \n",
      "  inflating: Set D/F041.txt          \n",
      "  inflating: Set D/F042.txt          \n",
      "  inflating: Set D/F043.txt          \n",
      "  inflating: Set D/F044.txt          \n",
      "  inflating: Set D/F045.txt          \n",
      "  inflating: Set D/F046.txt          \n",
      "  inflating: Set D/F047.txt          \n",
      "  inflating: Set D/F048.txt          \n",
      "  inflating: Set D/F049.txt          \n",
      "  inflating: Set D/F050.txt          \n",
      "  inflating: Set D/F051.txt          \n",
      "  inflating: Set D/F052.txt          \n",
      "  inflating: Set D/F053.txt          \n",
      "  inflating: Set D/F054.txt          \n",
      "  inflating: Set D/F055.txt          \n",
      "  inflating: Set D/F056.txt          \n",
      "  inflating: Set D/F057.txt          \n",
      "  inflating: Set D/F058.txt          \n",
      "  inflating: Set D/F059.txt          \n",
      "  inflating: Set D/F060.txt          \n",
      "  inflating: Set D/F061.txt          \n",
      "  inflating: Set D/F062.txt          \n",
      "  inflating: Set D/F063.txt          \n",
      "  inflating: Set D/F064.txt          \n",
      "  inflating: Set D/F065.txt          \n",
      "  inflating: Set D/F066.txt          \n",
      "  inflating: Set D/F067.txt          \n",
      "  inflating: Set D/F068.txt          \n",
      "  inflating: Set D/F069.txt          \n",
      "  inflating: Set D/F070.txt          \n",
      "  inflating: Set D/F071.txt          \n",
      "  inflating: Set D/F072.txt          \n",
      "  inflating: Set D/F073.txt          \n",
      "  inflating: Set D/F074.txt          \n",
      "  inflating: Set D/F075.txt          \n",
      "  inflating: Set D/F076.txt          \n",
      "  inflating: Set D/F077.txt          \n",
      "  inflating: Set D/F078.txt          \n",
      "  inflating: Set D/F079.txt          \n",
      "  inflating: Set D/F080.txt          \n",
      "  inflating: Set D/F081.txt          \n",
      "  inflating: Set D/F082.txt          \n",
      "  inflating: Set D/F083.txt          \n",
      "  inflating: Set D/F084.txt          \n",
      "  inflating: Set D/F085.txt          \n",
      "  inflating: Set D/F086.txt          \n",
      "  inflating: Set D/F087.txt          \n",
      "  inflating: Set D/F088.txt          \n",
      "  inflating: Set D/F089.txt          \n",
      "  inflating: Set D/F090.txt          \n",
      "  inflating: Set D/F091.txt          \n",
      "  inflating: Set D/F092.txt          \n",
      "  inflating: Set D/F093.txt          \n",
      "  inflating: Set D/F094.txt          \n",
      "  inflating: Set D/F095.txt          \n",
      "  inflating: Set D/F096.txt          \n",
      "  inflating: Set D/F097.txt          \n",
      "  inflating: Set D/F098.txt          \n",
      "  inflating: Set D/F099.txt          \n",
      "  inflating: Set D/F001.txt          \n",
      "Archive:  S.zip\n",
      "  inflating: Set E/S011.txt          \n",
      "  inflating: Set E/S099.txt          \n",
      "  inflating: Set E/S098.txt          \n",
      "  inflating: Set E/S097.txt          \n",
      "  inflating: Set E/S096.txt          \n",
      "  inflating: Set E/S095.txt          \n",
      "  inflating: Set E/S094.txt          \n",
      "  inflating: Set E/S093.txt          \n",
      "  inflating: Set E/S092.txt          \n",
      "  inflating: Set E/S091.txt          \n",
      "  inflating: Set E/S090.txt          \n",
      "  inflating: Set E/S089.txt          \n",
      "  inflating: Set E/S088.txt          \n",
      "  inflating: Set E/S087.txt          \n",
      "  inflating: Set E/S086.txt          \n",
      "  inflating: Set E/S085.txt          \n",
      "  inflating: Set E/S084.txt          \n",
      "  inflating: Set E/S083.txt          \n",
      "  inflating: Set E/S082.txt          \n",
      "  inflating: Set E/S081.txt          \n",
      "  inflating: Set E/S080.txt          \n",
      "  inflating: Set E/S079.txt          \n",
      "  inflating: Set E/S078.txt          \n",
      "  inflating: Set E/S077.txt          \n",
      "  inflating: Set E/S076.txt          \n",
      "  inflating: Set E/S075.txt          \n",
      "  inflating: Set E/S074.txt          \n",
      "  inflating: Set E/S073.txt          \n",
      "  inflating: Set E/S072.txt          \n",
      "  inflating: Set E/S071.txt          \n",
      "  inflating: Set E/S070.txt          \n",
      "  inflating: Set E/S069.txt          \n",
      "  inflating: Set E/S068.txt          \n",
      "  inflating: Set E/S067.txt          \n",
      "  inflating: Set E/S066.txt          \n",
      "  inflating: Set E/S065.txt          \n",
      "  inflating: Set E/S064.txt          \n",
      "  inflating: Set E/S063.txt          \n",
      "  inflating: Set E/S062.txt          \n",
      "  inflating: Set E/S061.txt          \n",
      "  inflating: Set E/S060.txt          \n",
      "  inflating: Set E/S059.txt          \n",
      "  inflating: Set E/S058.txt          \n",
      "  inflating: Set E/S057.txt          \n",
      "  inflating: Set E/S056.txt          \n",
      "  inflating: Set E/S055.txt          \n",
      "  inflating: Set E/S054.txt          \n",
      "  inflating: Set E/S053.txt          \n",
      "  inflating: Set E/S052.txt          \n",
      "  inflating: Set E/S051.txt          \n",
      "  inflating: Set E/S050.txt          \n",
      "  inflating: Set E/S049.txt          \n",
      "  inflating: Set E/S048.txt          \n",
      "  inflating: Set E/S047.txt          \n",
      "  inflating: Set E/S046.txt          \n",
      "  inflating: Set E/S045.txt          \n",
      "  inflating: Set E/S044.txt          \n",
      "  inflating: Set E/S043.txt          \n",
      "  inflating: Set E/S042.txt          \n",
      "  inflating: Set E/S041.txt          \n",
      "  inflating: Set E/S040.txt          \n",
      "  inflating: Set E/S039.txt          \n",
      "  inflating: Set E/S038.txt          \n",
      "  inflating: Set E/S037.txt          \n",
      "  inflating: Set E/S036.txt          \n",
      "  inflating: Set E/S035.txt          \n",
      "  inflating: Set E/S034.txt          \n",
      "  inflating: Set E/S033.txt          \n",
      "  inflating: Set E/S032.txt          \n",
      "  inflating: Set E/S031.txt          \n",
      "  inflating: Set E/S030.txt          \n",
      "  inflating: Set E/S029.txt          \n",
      "  inflating: Set E/S028.txt          \n",
      "  inflating: Set E/S027.txt          \n",
      "  inflating: Set E/S026.txt          \n",
      "  inflating: Set E/S025.txt          \n",
      "  inflating: Set E/S024.txt          \n",
      "  inflating: Set E/S023.txt          \n",
      "  inflating: Set E/S022.txt          \n",
      "  inflating: Set E/S021.txt          \n",
      "  inflating: Set E/S020.txt          \n",
      "  inflating: Set E/S019.txt          \n",
      "  inflating: Set E/S018.txt          \n",
      "  inflating: Set E/S017.txt          \n",
      "  inflating: Set E/S016.txt          \n",
      "  inflating: Set E/S015.txt          \n",
      "  inflating: Set E/S014.txt          \n",
      "  inflating: Set E/S013.txt          \n",
      "  inflating: Set E/S012.txt          \n",
      "  inflating: Set E/S100.txt          \n",
      "  inflating: Set E/S010.txt          \n",
      "  inflating: Set E/S009.txt          \n",
      "  inflating: Set E/S008.txt          \n",
      "  inflating: Set E/S007.txt          \n",
      "  inflating: Set E/S006.txt          \n",
      "  inflating: Set E/S005.txt          \n",
      "  inflating: Set E/S004.txt          \n",
      "  inflating: Set E/S003.txt          \n",
      "  inflating: Set E/S002.txt          \n",
      "  inflating: Set E/S001.txt          \n"
     ]
    }
   ],
   "source": [
    "  # download the data from university of Bonn\n",
    "  !wget http://epileptologie-bonn.de/cms/upload/workgroup/lehnertz/Z.zip  # Set A\n",
    "  !wget http://epileptologie-bonn.de/cms/upload/workgroup/lehnertz/O.zip  # Set B\n",
    "  !wget http://epileptologie-bonn.de/cms/upload/workgroup/lehnertz/N.zip  # Set C\n",
    "  !wget http://epileptologie-bonn.de/cms/upload/workgroup/lehnertz/F.zip  # Set D\n",
    "  !wget http://epileptologie-bonn.de/cms/upload/workgroup/lehnertz/S.zip  # Set E\n",
    "\n",
    "  !unzip Z.zip -d 'Set A'\n",
    "  !unzip O.zip -d 'Set B'\n",
    "  !unzip N.zip -d 'Set C'\n",
    "  !unzip F.zip -d 'Set D'\n",
    "  !unzip S.zip -d 'Set E'"
   ]
  },
  {
   "cell_type": "code",
   "execution_count": null,
   "metadata": {
    "collapsed": true,
    "id": "sNkhNZXORUbV"
   },
   "outputs": [],
   "source": [
    "# import the necessary packages\n",
    "import numpy as np\n",
    "import matplotlib as mpl\n",
    "import matplotlib.pyplot as plt\n",
    "import pandas as pd\n",
    "import os \n",
    "from tqdm import tqdm"
   ]
  },
  {
   "cell_type": "code",
   "execution_count": null,
   "metadata": {
    "colab": {
     "base_uri": "https://localhost:8080/",
     "height": 52
    },
    "collapsed": false,
    "id": "Ajd4capzRZKY",
    "outputId": "810e89c3-a16f-4a77-83c6-70d770317976"
   },
   "outputs": [
    {
     "name": "stderr",
     "output_type": "stream",
     "text": [
      "100%|██████████| 100/100 [00:01<00:00, 79.91it/s]\n",
      "100%|██████████| 100/100 [00:01<00:00, 78.81it/s]\n"
     ]
    }
   ],
   "source": [
    "# run this when doing A vs E , B vs E  , AB vs E , C vs E , D vs E , CD vs E \n",
    "DATA_DIR_A = './Set A/'\n",
    "DATA_DIR_B = './Set B/'\n",
    "DATA_DIR_C = './Set C/'\n",
    "DATA_DIR_D = './Set D/'\n",
    "DATA_DIR_E = './Set E/'\n",
    "\n",
    "#data 1 will contain A,B files\n",
    "#data 2 will contain C,D files\n",
    "#data 3 will contain E file \n",
    "\n",
    "\n",
    "data1 = []\n",
    "data2 = []\n",
    "data3 = []\n",
    "nbFiles = 0 \n",
    "\n",
    "# for getting file A in data1 , uncomment when in use\n",
    "#for fname in tqdm(os.listdir(DATA_DIR_A)):\n",
    " # img =  np.loadtxt(DATA_DIR_A + fname)\n",
    "  #data1.append([img])\n",
    "  #nbFiles+=1\n",
    "\n",
    "# for getting file B in data1 , uncomment when in use\n",
    "for fname in tqdm(os.listdir(DATA_DIR_B)):\n",
    "  img =  np.loadtxt(DATA_DIR_B + fname)\n",
    "  data1.append([img])\n",
    "  nbFiles+=1\n",
    "\n",
    "# for getting file C in data2 , uncomment when in use\n",
    "#for fname in tqdm(os.listdir(DATA_DIR_C)):\n",
    " # img =  np.loadtxt(DATA_DIR_C + fname)\n",
    " # data2.append([img])\n",
    " # nbFiles+=1\n",
    "\n",
    "# for getting file D in data2 , uncomment when in use\n",
    "#for fname in tqdm(os.listdir(DATA_DIR_D)):\n",
    " # img =  np.loadtxt(DATA_DIR_D + fname)\n",
    " #data2.append([img])\n",
    " # nbFiles+=1\n",
    "\n",
    "# for getting file E in data3 , uncomment when in use\n",
    "for fname in tqdm(os.listdir(DATA_DIR_E)):\n",
    "  img =  np.loadtxt(DATA_DIR_E + fname)\n",
    "  data3.append([img])\n",
    "  nbFiles+=1      "
   ]
  },
  {
   "cell_type": "code",
   "execution_count": null,
   "metadata": {
    "colab": {
     "base_uri": "https://localhost:8080/",
     "height": 105
    },
    "collapsed": false,
    "id": "RnWq-GQDHZgx",
    "outputId": "7a0e8dc0-eadb-4a40-fe28-46119c45ed53"
   },
   "outputs": [
    {
     "name": "stderr",
     "output_type": "stream",
     "text": [
      "100%|██████████| 100/100 [00:01<00:00, 80.18it/s]\n",
      "100%|██████████| 100/100 [00:01<00:00, 79.38it/s]\n",
      "100%|██████████| 100/100 [00:01<00:00, 79.12it/s]\n",
      "100%|██████████| 100/100 [00:01<00:00, 79.95it/s]\n",
      "100%|██████████| 100/100 [00:01<00:00, 79.43it/s]\n"
     ]
    }
   ],
   "source": [
    "# This should be run only when ABCD vs E is done and for plotting \n",
    "DATA_DIR_A = './Set A/'\n",
    "DATA_DIR_B = './Set B/'\n",
    "DATA_DIR_C = './Set C/'\n",
    "DATA_DIR_D = './Set D/'\n",
    "DATA_DIR_E = './Set E/'\n",
    "\n",
    "\n",
    "#data 2 will contain A,B,C,D files\n",
    "#data 3 will contain E file \n",
    "\n",
    "\n",
    "data2 = []\n",
    "data3 = []\n",
    "nbFiles = 0 \n",
    "\n",
    " \n",
    "for fname in tqdm(os.listdir(DATA_DIR_A)):\n",
    "  img =  np.loadtxt(DATA_DIR_A + fname)\n",
    "  data2.append([img])\n",
    "  nbFiles+=1\n",
    "\n",
    "\n",
    "for fname in tqdm(os.listdir(DATA_DIR_B)):\n",
    "  img =  np.loadtxt(DATA_DIR_B + fname)\n",
    "  data2.append([img])\n",
    "  nbFiles+=1\n",
    "\n",
    "\n",
    "for fname in tqdm(os.listdir(DATA_DIR_C)):\n",
    "  img =  np.loadtxt(DATA_DIR_C + fname)\n",
    "  data2.append([img])\n",
    "  nbFiles+=1\n",
    "\n",
    "\n",
    "for fname in tqdm(os.listdir(DATA_DIR_D)):\n",
    "  img =  np.loadtxt(DATA_DIR_D + fname)\n",
    "  data2.append([img])\n",
    "  nbFiles+=1\n",
    "\n",
    "\n",
    "for fname in tqdm(os.listdir(DATA_DIR_E)):\n",
    "  img =  np.loadtxt(DATA_DIR_E + fname)\n",
    "  data3.append([img])\n",
    "  nbFiles+=1      "
   ]
  },
  {
   "cell_type": "code",
   "execution_count": null,
   "metadata": {
    "collapsed": true,
    "id": "DDDnku57RaT2"
   },
   "outputs": [],
   "source": [
    "# converting the extracted data into array\n",
    "# depending on case, not in use code must be commented ( For example when comparing AB vs E , data2 must be commented)\n",
    "#data1 = np.array([d[0] for d in data1])\n",
    "data2 = np.array([d[0] for d in data2])\n",
    "data3 = np.array([d[0] for d in data3])"
   ]
  },
  {
   "cell_type": "code",
   "execution_count": null,
   "metadata": {
    "collapsed": true,
    "id": "zkcCjDmYRexv"
   },
   "outputs": [],
   "source": [
    "# X1 is list which will contain set A,B i,e data1\n",
    "X1 = []\n",
    "Y1 = []\n",
    "b = 178\n",
    "for i in range(data1.shape[0]):\n",
    "  for w in np.arange(0,4094,178):\n",
    "    X1.append([data1[i,w:w+b]])"
   ]
  },
  {
   "cell_type": "code",
   "execution_count": null,
   "metadata": {
    "collapsed": true,
    "id": "h499L1TNRhCL"
   },
   "outputs": [],
   "source": [
    "# X2 is list which will contain set C,D i,e data2\n",
    "X2 = []\n",
    "Y2 = []\n",
    "b = 178\n",
    "for i in range(data2.shape[0]):\n",
    "  for w in np.arange(0,4094,178):\n",
    "    X2.append([data2[i,w:w+b]])"
   ]
  },
  {
   "cell_type": "code",
   "execution_count": null,
   "metadata": {
    "collapsed": true,
    "id": "VJ4bh0oNRja8"
   },
   "outputs": [],
   "source": [
    "# X3 is list which will contain set E i,e data3\n",
    "X3 = []\n",
    "Y3 = []\n",
    "b = 178\n",
    "for i in range(data3.shape[0]):\n",
    "  for w in np.arange(0,4094,178):\n",
    "    X3.append([data3[i,w:w+b]])"
   ]
  },
  {
   "cell_type": "code",
   "execution_count": null,
   "metadata": {
    "collapsed": true,
    "id": "YgyFwhMmRmz3"
   },
   "outputs": [],
   "source": [
    "# converting the extracted data into array\n",
    "# depending the case , remaining code must be commented ( For example when comparing AB vs E , X2 must be commented)\n",
    "#X1 = np.array([d[0] for d in X1])\n",
    "X2 = np.array([d[0] for d in X2])\n",
    "X3 = np.array([d[0] for d in X3])"
   ]
  },
  {
   "cell_type": "code",
   "execution_count": null,
   "metadata": {
    "colab": {
     "base_uri": "https://localhost:8080/",
     "height": 34
    },
    "collapsed": false,
    "id": "m2jr4oJtRo8M",
    "outputId": "9e3ffe34-efa4-46c0-f5ca-3ee1d74ec73d"
   },
   "outputs": [
    {
     "data": {
      "text/plain": [
       "(9200, 178)"
      ]
     },
     "execution_count": 15,
     "metadata": {
      "tags": []
     },
     "output_type": "execute_result"
    }
   ],
   "source": [
    "X2.shape"
   ]
  },
  {
   "cell_type": "code",
   "execution_count": null,
   "metadata": {
    "colab": {
     "base_uri": "https://localhost:8080/",
     "height": 34
    },
    "collapsed": false,
    "id": "mF1AkuLYGR1g",
    "outputId": "28355604-57eb-4804-ea29-5be7b6c4e6ba"
   },
   "outputs": [
    {
     "data": {
      "text/plain": [
       "(2300, 178)"
      ]
     },
     "execution_count": 10,
     "metadata": {
      "tags": []
     },
     "output_type": "execute_result"
    }
   ],
   "source": [
    "X3.shape"
   ]
  },
  {
   "cell_type": "code",
   "execution_count": null,
   "metadata": {
    "collapsed": true,
    "id": "EWm0rp2v9PBs"
   },
   "outputs": [],
   "source": [
    "# Y value takes -1 for non-seizure and 1 for seizure"
   ]
  },
  {
   "cell_type": "code",
   "execution_count": null,
   "metadata": {
    "collapsed": true,
    "id": "BpSRlTGGRrK4"
   },
   "outputs": [],
   "source": [
    "#Y1 = np.zeros((X1.shape[0],1))\n",
    "Y2 = np.zeros((X2.shape[0],1))\n",
    "Y3 = np.zeros((X3.shape[0],1))\n",
    "#Y1 = Y1 - 1\n",
    "Y2 = Y2 - 1\n",
    "#Y2 = Y2 + 1\n",
    "Y3 = Y3 + 1"
   ]
  },
  {
   "cell_type": "code",
   "execution_count": null,
   "metadata": {
    "colab": {
     "base_uri": "https://localhost:8080/",
     "height": 34
    },
    "collapsed": false,
    "id": "Dr91MSEbcaFf",
    "outputId": "147f0cca-bcd4-4092-a84f-16038103e665"
   },
   "outputs": [
    {
     "data": {
      "text/plain": [
       "array([-1.])"
      ]
     },
     "execution_count": 17,
     "metadata": {
      "tags": []
     },
     "output_type": "execute_result"
    }
   ],
   "source": [
    "Y2[0]"
   ]
  },
  {
   "cell_type": "code",
   "execution_count": null,
   "metadata": {
    "collapsed": true,
    "id": "wj8hzGkp9J8T"
   },
   "outputs": [],
   "source": [
    "# concatenating the two sets which are in use ( concatenate X1 , X3 if AvsE or B vs E or AB vs E) remaining concatenate X2,X3"
   ]
  },
  {
   "cell_type": "code",
   "execution_count": null,
   "metadata": {
    "collapsed": true,
    "id": "TWPlATkqRuI5"
   },
   "outputs": [],
   "source": [
    "#X = np.concatenate((X1,X3) , axis = 0)\n",
    "X = np.concatenate((X2,X3), axis = 0)"
   ]
  },
  {
   "cell_type": "code",
   "execution_count": null,
   "metadata": {
    "collapsed": true,
    "id": "Zyu7fLSZRwoQ"
   },
   "outputs": [],
   "source": [
    "#Y = np.concatenate((Y1 , Y3) , axis = 0)\n",
    "Y = np.concatenate((Y2 ,Y3), axis =0)"
   ]
  },
  {
   "cell_type": "code",
   "execution_count": null,
   "metadata": {
    "colab": {
     "base_uri": "https://localhost:8080/",
     "height": 34
    },
    "collapsed": false,
    "id": "htQ_m99-Rzwy",
    "outputId": "2ce7e77f-913a-4d95-cead-dec1a3566dbe"
   },
   "outputs": [
    {
     "data": {
      "text/plain": [
       "(11500, 1)"
      ]
     },
     "execution_count": 15,
     "metadata": {
      "tags": []
     },
     "output_type": "execute_result"
    }
   ],
   "source": [
    "Y.shape"
   ]
  },
  {
   "cell_type": "code",
   "execution_count": null,
   "metadata": {
    "collapsed": true,
    "id": "xxcl6cjWR0aZ"
   },
   "outputs": [],
   "source": [
    "from scipy.signal import butter,lfilter"
   ]
  },
  {
   "cell_type": "code",
   "execution_count": null,
   "metadata": {
    "collapsed": true,
    "id": "KiRH6dR693Xg"
   },
   "outputs": [],
   "source": [
    "fs = 173.61\n",
    "cutoff = 40 #Hz\n",
    "nq = 0.5 * fs\n",
    "ncutoff = cutoff/nq\n",
    "b,a = butter(5,ncutoff,btype = 'low')\n",
    "# we have created a butter worth low pass filter of order 5 , with cutoff frequency 40Hz"
   ]
  },
  {
   "cell_type": "code",
   "execution_count": null,
   "metadata": {
    "collapsed": true,
    "id": "MTspK2KB89kR"
   },
   "outputs": [],
   "source": [
    "# this is for creating the X array in next steps\n",
    "size = Y.shape[0]"
   ]
  },
  {
   "cell_type": "code",
   "execution_count": null,
   "metadata": {
    "collapsed": true,
    "id": "lT826iOP97jP"
   },
   "outputs": [],
   "source": [
    "X_new  = []\n",
    "#butter worth coefficients are already created\n",
    "for i in range(X.shape[0]):\n",
    "  X_new.append([lfilter(b,a,X[i])])\n"
   ]
  },
  {
   "cell_type": "code",
   "execution_count": null,
   "metadata": {
    "collapsed": true,
    "id": "vKbyMDsr9-2D"
   },
   "outputs": [],
   "source": [
    "X_new = np.array([X_new])\n",
    "X = np.reshape(X_new , (size,178))"
   ]
  },
  {
   "cell_type": "code",
   "execution_count": null,
   "metadata": {
    "collapsed": true,
    "id": "YOoHZA1fY0du"
   },
   "outputs": [],
   "source": [
    "# done filtering the signals"
   ]
  },
  {
   "cell_type": "code",
   "execution_count": null,
   "metadata": {
    "collapsed": true,
    "id": "Y0SdimQuXMWI"
   },
   "outputs": [],
   "source": [
    "from sklearn.decomposition import FastICA\n",
    "from sklearn.preprocessing import StandardScaler\n",
    "from scipy.signal import welch"
   ]
  },
  {
   "cell_type": "code",
   "execution_count": null,
   "metadata": {
    "collapsed": true,
    "id": "y_BuBGwz-JH1"
   },
   "outputs": [],
   "source": [
    "# function for created ICA features , using fastICA library in python\n",
    "def featuresICA(X_train,X_test):\n",
    "  ica = FastICA(n_components = 100,)\n",
    "  X_train1 = ica.fit_transform(X_train)\n",
    "  X_test1 = ica.transform(X_test)\n",
    "  sc1 = StandardScaler()\n",
    "  X_train1 = sc1.fit_transform(X_train1)\n",
    "  X_test1 = sc1.transform(X_test1)\n",
    "\n",
    "  return X_train1,X_test1 "
   ]
  },
  {
   "cell_type": "code",
   "execution_count": null,
   "metadata": {
    "collapsed": true,
    "id": "Gnu-9JBPXkG0"
   },
   "outputs": [],
   "source": [
    "#function for creating 'psd' features, we use the inbuilt welch function for this \n",
    "def featurespsds(X_train,X_test):\n",
    "  psds = []\n",
    "  for i in range(X_train.shape[0]):\n",
    "    freqs,psd = welch(X_train[i],fs = 173.61)\n",
    "    psds.append([psd[1:55]])\n",
    "\n",
    "  X_train2 = np.array(psds)  \n",
    "  X_train2 = np.reshape(X_train2,(X_train1.shape[0],54))\n",
    "\n",
    "  psds = []\n",
    "  for i in range(X_test.shape[0]):\n",
    "    freqs,psd = welch(X_test[i],fs = 173.61)\n",
    "    psds.append([psd[1:55]])\n",
    "  \n",
    "  X_test2 = np.array(psds)   \n",
    "  X_test2 = np.reshape(X_test2,(X_test1.shape[0],54))  \n",
    "\n",
    "  # let us scale\n",
    "  sc2 = StandardScaler()\n",
    "  X_train2 = sc2.fit_transform(X_train2)\n",
    "  X_test2 = sc2.transform(X_test2)\n",
    "  #done scaling\n",
    "\n",
    "  return X_train2 , X_test2\n"
   ]
  },
  {
   "cell_type": "code",
   "execution_count": null,
   "metadata": {
    "collapsed": true,
    "id": "HIJso3tOCiBc"
   },
   "outputs": [],
   "source": [
    "#only for plotting run the next three tabs\n",
    "# set A - 0 to 2300 \n",
    "# set B - 2300 to 4600\n",
    "# set C - 4600 to 6900 \n",
    "# set D - 6900 to 9200 \n",
    "# set E - 9200 to 12500 \n",
    "\n",
    "sample_num = 2000 # example"
   ]
  },
  {
   "cell_type": "code",
   "execution_count": null,
   "metadata": {
    "colab": {
     "base_uri": "https://localhost:8080/",
     "height": 72
    },
    "collapsed": false,
    "id": "gAcOO_FpnMrk",
    "outputId": "d6f19c25-3f1f-4e90-aefa-526e04a4fd6c"
   },
   "outputs": [
    {
     "name": "stderr",
     "output_type": "stream",
     "text": [
      "/usr/local/lib/python3.6/dist-packages/sklearn/decomposition/_fastica.py:119: ConvergenceWarning: FastICA did not converge. Consider increasing tolerance or the maximum number of iterations.\n",
      "  ConvergenceWarning)\n"
     ]
    }
   ],
   "source": [
    "X_train1 , X_test1 = featuresICA(X,X)\n",
    "X_train2 , X_test2 = featurespsds(X,X)"
   ]
  },
  {
   "cell_type": "code",
   "execution_count": null,
   "metadata": {
    "colab": {
     "base_uri": "https://localhost:8080/",
     "height": 295
    },
    "collapsed": false,
    "id": "rhG9EuOawSpj",
    "outputId": "27b14354-24fb-4a7a-d466-6e149f82d6d0"
   },
   "outputs": [
    {
     "data": {
      "image/png": "[encoded data removed]",
      "text/plain": [
       "<Figure size 432x288 with 1 Axes>"
      ]
     },
     "metadata": {
      "needs_background": "light",
      "tags": []
     },
     "output_type": "display_data"
    }
   ],
   "source": [
    "plt.plot(X_train1[sample_num])\n",
    "plt.title('Set C ICA')\n",
    "plt.ylabel('Amplitude')\n",
    "plt.xlabel('Components')\n",
    "plt.savefig('SetC_ICA.png')  "
   ]
  },
  {
   "cell_type": "code",
   "execution_count": null,
   "metadata": {
    "colab": {
     "base_uri": "https://localhost:8080/",
     "height": 295
    },
    "collapsed": false,
    "id": "2WAn_OK9n61L",
    "outputId": "8beb8b04-40aa-4a18-e25c-1da1f939a296"
   },
   "outputs": [
    {
     "data": {
      "image/png": "[encoded data removed]",
      "text/plain": [
       "<Figure size 432x288 with 1 Axes>"
      ]
     },
     "metadata": {
      "needs_background": "light",
      "tags": []
     },
     "output_type": "display_data"
    }
   ],
   "source": [
    "plt.plot(X_train2[sample_num])\n",
    "plt.title('Set C PSD')\n",
    "plt.ylabel('Amplitude')\n",
    "plt.xlabel('Frequency')\n",
    "plt.savefig('SetC_PSD.png')  "
   ]
  },
  {
   "cell_type": "code",
   "execution_count": null,
   "metadata": {
    "colab": {
     "base_uri": "https://localhost:8080/",
     "height": 281
    },
    "collapsed": false,
    "id": "XLUB81I6oA35",
    "outputId": "28a9cb5c-30c6-4eee-9c46-f2f949f3ef32"
   },
   "outputs": [
    {
     "data": {
      "image/png": "[encoded data removed]",
      "text/plain": [
       "<Figure size 432x288 with 1 Axes>"
      ]
     },
     "metadata": {
      "needs_background": "light",
      "tags": []
     },
     "output_type": "display_data"
    }
   ],
   "source": [
    "plt.plot(X[sample_num])\n",
    "plt.title('Set C')\n",
    "#plt.ylabel('Amplitude')\n",
    "#plt.xlabel('Time')\n",
    "plt.savefig('SetC.png')  "
   ]
  },
  {
   "cell_type": "code",
   "execution_count": null,
   "metadata": {
    "colab": {
     "base_uri": "https://localhost:8080/",
     "height": 34
    },
    "collapsed": false,
    "id": "EylEfkWjo2ek",
    "outputId": "ddba35fa-67b5-4593-8964-ed7a1630de2f"
   },
   "outputs": [
    {
     "data": {
      "text/plain": [
       "(4600, 178)"
      ]
     },
     "execution_count": 56,
     "metadata": {
      "tags": []
     },
     "output_type": "execute_result"
    }
   ],
   "source": [
    "X.shape"
   ]
  },
  {
   "cell_type": "code",
   "execution_count": null,
   "metadata": {
    "collapsed": true,
    "id": "MZy9BV_M3Pm-"
   },
   "outputs": [],
   "source": [
    "from sklearn.metrics import accuracy_score\n",
    "from sklearn.metrics import classification_report"
   ]
  },
  {
   "cell_type": "code",
   "execution_count": null,
   "metadata": {
    "collapsed": true,
    "id": "ukMi26JdST26"
   },
   "outputs": [],
   "source": [
    "# this method to find weights W1 , W2 as mentioned in paper\n",
    "def findweights(X_test1,X_test2):\n",
    "  acc = 0 \n",
    "  W1 = 0 \n",
    "  W2 = 0\n",
    "  ma = 0 \n",
    "  for i in np.arange(0,1,0.02):\n",
    "    Ypred = newmodel.predict([X_test1,X_test2])\n",
    "    Ypred = (i*Ypred[:,0] + (1-i)*Ypred[:,1])\n",
    "    Ypred = np.where(Ypred>=0,1,-1)\n",
    "    acc = accuracy_score(y_test,Ypred)\n",
    "    if ma <= acc :\n",
    "      ma = acc\n",
    "      W1 = i \n",
    "      W2 = 1 - i \n",
    "\n",
    "\n",
    "  return W1 ,W2     "
   ]
  },
  {
   "cell_type": "code",
   "execution_count": null,
   "metadata": {
    "collapsed": true,
    "id": "-ORWLxtPSdPv"
   },
   "outputs": [],
   "source": [
    "# this is a function to find the threshold as mentioned in paper\n",
    "def findthrs(y_test,Ypred):\n",
    "  fpr , tpr , thrs = roc_curve(y_test ,Ypred )\n",
    "  ma = 0 \n",
    "  for i in range(thrs.shape[0]):\n",
    "    Ypred = newmodel.predict([X_test1,X_test2])\n",
    "    Ypred = (0*Ypred[:,0] +1* Ypred[:,1])\n",
    "    Ypred = np.where(Ypred>=thrs[i],1,-1)\n",
    "    acc = accuracy_score(y_test,Ypred)\n",
    "    if ma< acc:\n",
    "      ma = acc\n",
    "      threshold = thrs[i]\n",
    "\n",
    "  return threshold "
   ]
  },
  {
   "cell_type": "code",
   "execution_count": null,
   "metadata": {
    "collapsed": true,
    "id": "93noLBWUqvti"
   },
   "outputs": [],
   "source": [
    "# function for finding area under curve value (AUC)\n",
    "def findauc(Ypred , y_test):\n",
    "  precision , recall , thrs = precision_recall_curve(y_test  , Ypred)\n",
    "  a = auc(recall,precision)\n",
    "  \n",
    "\n",
    "  return a "
   ]
  },
  {
   "cell_type": "code",
   "execution_count": null,
   "metadata": {
    "collapsed": true,
    "id": "ZsKqSzxj-aio"
   },
   "outputs": [],
   "source": [
    "# time for multi view svm\n",
    "from sklearn.metrics import accuracy_score\n",
    "from sklearn.utils import shuffle"
   ]
  },
  {
   "cell_type": "code",
   "execution_count": null,
   "metadata": {
    "collapsed": true,
    "id": "-TerCNqS-eW-"
   },
   "outputs": [],
   "source": [
    "# importing necessary packages\n",
    "from keras import *\n",
    "from keras.models import Model\n",
    "from keras.layers import concatenate\n",
    "from keras.layers import Dense\n",
    "from keras import regularizers\n",
    "from keras.layers import Activation"
   ]
  },
  {
   "cell_type": "code",
   "execution_count": null,
   "metadata": {
    "collapsed": true,
    "id": "dZxN2MYoZ7-u"
   },
   "outputs": [],
   "source": [
    "from sklearn.metrics import confusion_matrix\n",
    "from sklearn.metrics import precision_recall_curve\n",
    "from sklearn.metrics import roc_curve\n",
    "from sklearn.metrics import roc_auc_score\n",
    "from sklearn.metrics import f1_score\n",
    "from sklearn.metrics import auc"
   ]
  },
  {
   "cell_type": "code",
   "execution_count": null,
   "metadata": {
    "collapsed": true,
    "id": "y8tA_sbk-MJj"
   },
   "outputs": [],
   "source": [
    "# implenting the cost function as mentioned in the paper"
   ]
  },
  {
   "cell_type": "code",
   "execution_count": null,
   "metadata": {
    "collapsed": true,
    "id": "HXyPlVBMgdvq"
   },
   "outputs": [],
   "source": [
    "import keras.backend as kb\n",
    "def custom_loss_function(y_actual ,ypred):\n",
    "  loss =  kb.sum(kb.maximum(0.0,1.- (y_actual * ypred)))\n",
    "\n",
    "  y1 = ypred[:,0]\n",
    "  y2 = ypred[:,1]\n",
    "  m1 = kb.greater(kb.abs(y2-y1),1)\n",
    "  \n",
    "\n",
    "  extra = 0 \n",
    "  # this is the additional reguralization term as mentioned in the paper\n",
    "  extra = kb.sum(kb.switch(m1,kb.abs(y2-y1),0))\n",
    "\n",
    "  loss  = loss +(0.001)* extra\n",
    "  \n",
    "\n",
    "  return loss \n"
   ]
  },
  {
   "cell_type": "code",
   "execution_count": null,
   "metadata": {
    "collapsed": true,
    "id": "itRVerll-SH_"
   },
   "outputs": [],
   "source": [
    "# implementing the multi-view SVM model using keras\n",
    "# we have added  weight regularization term as mentioned in paper"
   ]
  },
  {
   "cell_type": "code",
   "execution_count": null,
   "metadata": {
    "collapsed": true,
    "id": "NmfOs1iHgh3_"
   },
   "outputs": [],
   "source": [
    "\n",
    "model1 = Sequential()\n",
    "model1.add(Dense(1,input_dim = 100 , activation = 'linear',bias_initializer=initializers.Constant(0.01)))\n",
    "\n",
    "model2 = Sequential()\n",
    "model2.add(Dense(1,input_dim = 54 ,activation = 'linear',bias_initializer=initializers.Constant(0.01)))\n",
    "\n",
    "mergedout = concatenate([model1.output,model2.output])\n",
    "\n",
    "newmodel = Model([model1.input , model2.input],mergedout)\n",
    "\n",
    "newmodel.compile(loss =custom_loss_function , optimizer = 'SGD')"
   ]
  },
  {
   "cell_type": "code",
   "execution_count": null,
   "metadata": {
    "collapsed": true,
    "id": "EjTHJ4ShS4so"
   },
   "outputs": [],
   "source": [
    "# using stratified shuffle split , we do K-fold crossvalidation , in each fold we have equal number of positive(1) and negative(-1) samples\n",
    "from sklearn.model_selection import StratifiedShuffleSplit"
   ]
  },
  {
   "cell_type": "code",
   "execution_count": null,
   "metadata": {
    "collapsed": true,
    "id": "F46M1Fs7VVJN"
   },
   "outputs": [],
   "source": [
    "ss = StratifiedShuffleSplit(n_splits=10,test_size = 0.3,random_state= 0 )"
   ]
  },
  {
   "cell_type": "code",
   "execution_count": null,
   "metadata": {
    "collapsed": true,
    "id": "Z6NM1NDWbWPl"
   },
   "outputs": [],
   "source": [
    "# initialize these values before running the loop\n",
    "# initializing metrics\n",
    "accuracy = 0 \n",
    "sensitivity = 0 \n",
    "specificity = 0 \n",
    "f1score = 0\n",
    "auc_score =  0 "
   ]
  },
  {
   "cell_type": "code",
   "execution_count": null,
   "metadata": {
    "colab": {
     "base_uri": "https://localhost:8080/",
     "height": 1000
    },
    "collapsed": false,
    "id": "G2uOK004VhB4",
    "outputId": "17185f5c-0fcc-4703-88c6-7d0d0b0462d9"
   },
   "outputs": [
    {
     "name": "stdout",
     "output_type": "stream",
     "text": [
      "iteration 0\n"
     ]
    },
    {
     "name": "stderr",
     "output_type": "stream",
     "text": [
      "/usr/local/lib/python3.6/dist-packages/sklearn/decomposition/_fastica.py:119: ConvergenceWarning: FastICA did not converge. Consider increasing tolerance or the maximum number of iterations.\n",
      "  ConvergenceWarning)\n",
      "/usr/local/lib/python3.6/dist-packages/scipy/signal/spectral.py:1966: UserWarning: nperseg = 256 is greater than input length  = 178, using nperseg = 178\n",
      "  .format(nperseg, input_length))\n"
     ]
    },
    {
     "name": "stdout",
     "output_type": "stream",
     "text": [
      "Epoch 1/50\n",
      "3220/3220 [==============================] - 0s 132us/step - loss: 28.3560\n",
      "Epoch 2/50\n",
      "3220/3220 [==============================] - 0s 50us/step - loss: 24.9867\n",
      "Epoch 3/50\n",
      "3220/3220 [==============================] - 0s 45us/step - loss: 24.8014\n",
      "Epoch 4/50\n",
      "3220/3220 [==============================] - 0s 46us/step - loss: 24.5662\n",
      "Epoch 5/50\n",
      "3220/3220 [==============================] - 0s 45us/step - loss: 24.7417\n",
      "Epoch 6/50\n",
      "3220/3220 [==============================] - 0s 47us/step - loss: 24.0235\n",
      "Epoch 7/50\n",
      "3220/3220 [==============================] - 0s 46us/step - loss: 23.8932\n",
      "Epoch 8/50\n",
      "3220/3220 [==============================] - 0s 47us/step - loss: 24.5640\n",
      "Epoch 9/50\n",
      "3220/3220 [==============================] - 0s 47us/step - loss: 23.7792\n",
      "Epoch 10/50\n",
      "3220/3220 [==============================] - 0s 47us/step - loss: 23.9929\n",
      "Epoch 11/50\n",
      "3220/3220 [==============================] - 0s 47us/step - loss: 23.5500\n",
      "Epoch 12/50\n",
      "3220/3220 [==============================] - 0s 50us/step - loss: 24.1599\n",
      "Epoch 13/50\n",
      "3220/3220 [==============================] - 0s 46us/step - loss: 23.6087\n",
      "Epoch 14/50\n",
      "3220/3220 [==============================] - 0s 55us/step - loss: 24.1623\n",
      "Epoch 15/50\n",
      "3220/3220 [==============================] - 0s 47us/step - loss: 23.9421\n",
      "Epoch 16/50\n",
      "3220/3220 [==============================] - 0s 46us/step - loss: 24.2835\n",
      "Epoch 17/50\n",
      "3220/3220 [==============================] - 0s 46us/step - loss: 23.5948\n",
      "Epoch 18/50\n",
      "3220/3220 [==============================] - 0s 46us/step - loss: 24.1410\n",
      "Epoch 19/50\n",
      "3220/3220 [==============================] - 0s 46us/step - loss: 23.7310\n",
      "Epoch 20/50\n",
      "3220/3220 [==============================] - 0s 53us/step - loss: 24.0222\n",
      "Epoch 21/50\n",
      "3220/3220 [==============================] - 0s 46us/step - loss: 23.8057\n",
      "Epoch 22/50\n",
      "3220/3220 [==============================] - 0s 48us/step - loss: 23.5279\n",
      "Epoch 23/50\n",
      "3220/3220 [==============================] - 0s 49us/step - loss: 23.9775\n",
      "Epoch 24/50\n",
      "3220/3220 [==============================] - 0s 47us/step - loss: 23.9748\n",
      "Epoch 25/50\n",
      "3220/3220 [==============================] - 0s 50us/step - loss: 23.8849\n",
      "Epoch 26/50\n",
      "3220/3220 [==============================] - 0s 48us/step - loss: 23.9070\n",
      "Epoch 27/50\n",
      "3220/3220 [==============================] - 0s 52us/step - loss: 23.7421\n",
      "Epoch 28/50\n",
      "3220/3220 [==============================] - 0s 51us/step - loss: 23.7913\n",
      "Epoch 29/50\n",
      "3220/3220 [==============================] - 0s 46us/step - loss: 23.6602\n",
      "Epoch 30/50\n",
      "3220/3220 [==============================] - 0s 46us/step - loss: 23.7401\n",
      "Epoch 31/50\n",
      "3220/3220 [==============================] - 0s 47us/step - loss: 23.7277\n",
      "Epoch 32/50\n",
      "3220/3220 [==============================] - 0s 47us/step - loss: 23.7838\n",
      "Epoch 33/50\n",
      "3220/3220 [==============================] - 0s 53us/step - loss: 23.9663\n",
      "Epoch 34/50\n",
      "3220/3220 [==============================] - 0s 49us/step - loss: 23.3836\n",
      "Epoch 35/50\n",
      "3220/3220 [==============================] - 0s 47us/step - loss: 23.3454\n",
      "Epoch 36/50\n",
      "3220/3220 [==============================] - 0s 47us/step - loss: 24.1714\n",
      "Epoch 37/50\n",
      "3220/3220 [==============================] - 0s 52us/step - loss: 23.9704\n",
      "Epoch 38/50\n",
      "3220/3220 [==============================] - 0s 50us/step - loss: 23.9082\n",
      "Epoch 39/50\n",
      "3220/3220 [==============================] - 0s 50us/step - loss: 23.9269\n",
      "Epoch 40/50\n",
      "3220/3220 [==============================] - 0s 47us/step - loss: 23.7366\n",
      "Epoch 41/50\n",
      "3220/3220 [==============================] - 0s 47us/step - loss: 23.9179\n",
      "Epoch 42/50\n",
      "3220/3220 [==============================] - 0s 47us/step - loss: 23.8150\n",
      "Epoch 43/50\n",
      "3220/3220 [==============================] - 0s 47us/step - loss: 23.8945\n",
      "Epoch 44/50\n",
      "3220/3220 [==============================] - 0s 50us/step - loss: 23.6659\n",
      "Epoch 45/50\n",
      "3220/3220 [==============================] - 0s 52us/step - loss: 23.9977\n",
      "Epoch 46/50\n",
      "3220/3220 [==============================] - 0s 49us/step - loss: 23.9847\n",
      "Epoch 47/50\n",
      "3220/3220 [==============================] - 0s 47us/step - loss: 23.9218\n",
      "Epoch 48/50\n",
      "3220/3220 [==============================] - 0s 48us/step - loss: 24.2292\n",
      "Epoch 49/50\n",
      "3220/3220 [==============================] - 0s 47us/step - loss: 23.8710\n",
      "Epoch 50/50\n",
      "3220/3220 [==============================] - 0s 47us/step - loss: 23.6460\n",
      "iteration 1\n"
     ]
    },
    {
     "name": "stderr",
     "output_type": "stream",
     "text": [
      "/usr/local/lib/python3.6/dist-packages/sklearn/decomposition/_fastica.py:119: ConvergenceWarning: FastICA did not converge. Consider increasing tolerance or the maximum number of iterations.\n",
      "  ConvergenceWarning)\n",
      "/usr/local/lib/python3.6/dist-packages/scipy/signal/spectral.py:1966: UserWarning: nperseg = 256 is greater than input length  = 178, using nperseg = 178\n",
      "  .format(nperseg, input_length))\n"
     ]
    },
    {
     "name": "stdout",
     "output_type": "stream",
     "text": [
      "Epoch 1/50\n",
      "3220/3220 [==============================] - 0s 48us/step - loss: 25.1456\n",
      "Epoch 2/50\n",
      "3220/3220 [==============================] - 0s 47us/step - loss: 24.4723\n",
      "Epoch 3/50\n",
      "3220/3220 [==============================] - 0s 46us/step - loss: 24.4911\n",
      "Epoch 4/50\n",
      "3220/3220 [==============================] - 0s 49us/step - loss: 24.5488\n",
      "Epoch 5/50\n",
      "3220/3220 [==============================] - 0s 47us/step - loss: 24.4540\n",
      "Epoch 6/50\n",
      "3220/3220 [==============================] - 0s 47us/step - loss: 24.4445\n",
      "Epoch 7/50\n",
      "3220/3220 [==============================] - 0s 53us/step - loss: 24.2899\n",
      "Epoch 8/50\n",
      "3220/3220 [==============================] - 0s 47us/step - loss: 24.4532\n",
      "Epoch 9/50\n",
      "3220/3220 [==============================] - 0s 50us/step - loss: 24.6054\n",
      "Epoch 10/50\n",
      "3220/3220 [==============================] - 0s 48us/step - loss: 24.3438\n",
      "Epoch 11/50\n",
      "3220/3220 [==============================] - 0s 46us/step - loss: 24.5536\n",
      "Epoch 12/50\n",
      "3220/3220 [==============================] - 0s 46us/step - loss: 24.2005\n",
      "Epoch 13/50\n",
      "3220/3220 [==============================] - 0s 50us/step - loss: 24.1031\n",
      "Epoch 14/50\n",
      "3220/3220 [==============================] - 0s 47us/step - loss: 24.3662\n",
      "Epoch 15/50\n",
      "3220/3220 [==============================] - 0s 47us/step - loss: 24.1724\n",
      "Epoch 16/50\n",
      "3220/3220 [==============================] - 0s 51us/step - loss: 24.5151\n",
      "Epoch 17/50\n",
      "3220/3220 [==============================] - 0s 50us/step - loss: 24.7377\n",
      "Epoch 18/50\n",
      "3220/3220 [==============================] - 0s 50us/step - loss: 23.9237\n",
      "Epoch 19/50\n",
      "3220/3220 [==============================] - 0s 49us/step - loss: 24.2023\n",
      "Epoch 20/50\n",
      "3220/3220 [==============================] - 0s 47us/step - loss: 24.0784\n",
      "Epoch 21/50\n",
      "3220/3220 [==============================] - 0s 47us/step - loss: 24.5598\n",
      "Epoch 22/50\n",
      "3220/3220 [==============================] - 0s 50us/step - loss: 24.5161\n",
      "Epoch 23/50\n",
      "3220/3220 [==============================] - 0s 49us/step - loss: 24.3713\n",
      "Epoch 24/50\n",
      "3220/3220 [==============================] - 0s 46us/step - loss: 24.7781\n",
      "Epoch 25/50\n",
      "3220/3220 [==============================] - 0s 47us/step - loss: 24.4427\n",
      "Epoch 26/50\n",
      "3220/3220 [==============================] - 0s 50us/step - loss: 24.6676\n",
      "Epoch 27/50\n",
      "3220/3220 [==============================] - 0s 47us/step - loss: 24.1072\n",
      "Epoch 28/50\n",
      "3220/3220 [==============================] - 0s 57us/step - loss: 24.4193\n",
      "Epoch 29/50\n",
      "3220/3220 [==============================] - 0s 49us/step - loss: 24.1840\n",
      "Epoch 30/50\n",
      "3220/3220 [==============================] - 0s 47us/step - loss: 24.4440\n",
      "Epoch 31/50\n",
      "3220/3220 [==============================] - 0s 47us/step - loss: 24.3681\n",
      "Epoch 32/50\n",
      "3220/3220 [==============================] - 0s 50us/step - loss: 24.3434\n",
      "Epoch 33/50\n",
      "3220/3220 [==============================] - 0s 46us/step - loss: 24.3375\n",
      "Epoch 34/50\n",
      "3220/3220 [==============================] - 0s 48us/step - loss: 24.2243\n",
      "Epoch 35/50\n",
      "3220/3220 [==============================] - 0s 54us/step - loss: 24.5450\n",
      "Epoch 36/50\n",
      "3220/3220 [==============================] - 0s 48us/step - loss: 24.3231\n",
      "Epoch 37/50\n",
      "3220/3220 [==============================] - 0s 47us/step - loss: 24.4155\n",
      "Epoch 38/50\n",
      "3220/3220 [==============================] - 0s 48us/step - loss: 24.9992\n",
      "Epoch 39/50\n",
      "3220/3220 [==============================] - 0s 47us/step - loss: 24.4929\n",
      "Epoch 40/50\n",
      "3220/3220 [==============================] - 0s 49us/step - loss: 24.2368\n",
      "Epoch 41/50\n",
      "3220/3220 [==============================] - 0s 55us/step - loss: 24.0710\n",
      "Epoch 42/50\n",
      "3220/3220 [==============================] - 0s 50us/step - loss: 24.3804\n",
      "Epoch 43/50\n",
      "3220/3220 [==============================] - 0s 50us/step - loss: 24.6871\n",
      "Epoch 44/50\n",
      "3220/3220 [==============================] - 0s 51us/step - loss: 24.3053\n",
      "Epoch 45/50\n",
      "3220/3220 [==============================] - 0s 50us/step - loss: 24.7898\n",
      "Epoch 46/50\n",
      "3220/3220 [==============================] - 0s 49us/step - loss: 24.4399\n",
      "Epoch 47/50\n",
      "3220/3220 [==============================] - 0s 50us/step - loss: 24.7113\n",
      "Epoch 48/50\n",
      "3220/3220 [==============================] - 0s 47us/step - loss: 24.0395\n",
      "Epoch 49/50\n",
      "3220/3220 [==============================] - 0s 47us/step - loss: 24.5357\n",
      "Epoch 50/50\n",
      "3220/3220 [==============================] - 0s 47us/step - loss: 24.4489\n",
      "iteration 2\n"
     ]
    },
    {
     "name": "stderr",
     "output_type": "stream",
     "text": [
      "/usr/local/lib/python3.6/dist-packages/sklearn/decomposition/_fastica.py:119: ConvergenceWarning: FastICA did not converge. Consider increasing tolerance or the maximum number of iterations.\n",
      "  ConvergenceWarning)\n",
      "/usr/local/lib/python3.6/dist-packages/scipy/signal/spectral.py:1966: UserWarning: nperseg = 256 is greater than input length  = 178, using nperseg = 178\n",
      "  .format(nperseg, input_length))\n"
     ]
    },
    {
     "name": "stdout",
     "output_type": "stream",
     "text": [
      "Epoch 1/50\n",
      "3220/3220 [==============================] - 0s 49us/step - loss: 24.1876\n",
      "Epoch 2/50\n",
      "3220/3220 [==============================] - 0s 48us/step - loss: 24.0685\n",
      "Epoch 3/50\n",
      "3220/3220 [==============================] - 0s 48us/step - loss: 24.0068\n",
      "Epoch 4/50\n",
      "3220/3220 [==============================] - 0s 51us/step - loss: 24.0611\n",
      "Epoch 5/50\n",
      "3220/3220 [==============================] - 0s 49us/step - loss: 24.1843\n",
      "Epoch 6/50\n",
      "3220/3220 [==============================] - 0s 47us/step - loss: 24.0483\n",
      "Epoch 7/50\n",
      "3220/3220 [==============================] - 0s 47us/step - loss: 23.6315\n",
      "Epoch 8/50\n",
      "3220/3220 [==============================] - 0s 49us/step - loss: 23.9446\n",
      "Epoch 9/50\n",
      "3220/3220 [==============================] - 0s 51us/step - loss: 24.1780\n",
      "Epoch 10/50\n",
      "3220/3220 [==============================] - 0s 49us/step - loss: 23.5764\n",
      "Epoch 11/50\n",
      "3220/3220 [==============================] - 0s 49us/step - loss: 23.4740\n",
      "Epoch 12/50\n",
      "3220/3220 [==============================] - 0s 48us/step - loss: 23.9360\n",
      "Epoch 13/50\n",
      "3220/3220 [==============================] - 0s 50us/step - loss: 24.0767\n",
      "Epoch 14/50\n",
      "3220/3220 [==============================] - 0s 48us/step - loss: 23.3224\n",
      "Epoch 15/50\n",
      "3220/3220 [==============================] - 0s 47us/step - loss: 23.8305\n",
      "Epoch 16/50\n",
      "3220/3220 [==============================] - 0s 52us/step - loss: 23.9005\n",
      "Epoch 17/50\n",
      "3220/3220 [==============================] - 0s 50us/step - loss: 24.0694\n",
      "Epoch 18/50\n",
      "3220/3220 [==============================] - 0s 47us/step - loss: 23.7399\n",
      "Epoch 19/50\n",
      "3220/3220 [==============================] - 0s 50us/step - loss: 24.1943\n",
      "Epoch 20/50\n",
      "3220/3220 [==============================] - 0s 48us/step - loss: 24.0079\n",
      "Epoch 21/50\n",
      "3220/3220 [==============================] - 0s 47us/step - loss: 23.8531\n",
      "Epoch 22/50\n",
      "3220/3220 [==============================] - 0s 48us/step - loss: 24.0359\n",
      "Epoch 23/50\n",
      "3220/3220 [==============================] - 0s 49us/step - loss: 23.9556\n",
      "Epoch 24/50\n",
      "3220/3220 [==============================] - 0s 46us/step - loss: 23.2547\n",
      "Epoch 25/50\n",
      "3220/3220 [==============================] - 0s 50us/step - loss: 24.3279\n",
      "Epoch 26/50\n",
      "3220/3220 [==============================] - 0s 48us/step - loss: 23.9656\n",
      "Epoch 27/50\n",
      "3220/3220 [==============================] - 0s 46us/step - loss: 23.6105\n",
      "Epoch 28/50\n",
      "3220/3220 [==============================] - 0s 53us/step - loss: 23.7052\n",
      "Epoch 29/50\n",
      "3220/3220 [==============================] - 0s 47us/step - loss: 23.6840\n",
      "Epoch 30/50\n",
      "3220/3220 [==============================] - 0s 51us/step - loss: 23.7742\n",
      "Epoch 31/50\n",
      "3220/3220 [==============================] - 0s 48us/step - loss: 23.5573\n",
      "Epoch 32/50\n",
      "3220/3220 [==============================] - 0s 46us/step - loss: 24.2301\n",
      "Epoch 33/50\n",
      "3220/3220 [==============================] - 0s 47us/step - loss: 23.8492\n",
      "Epoch 34/50\n",
      "3220/3220 [==============================] - 0s 47us/step - loss: 23.9561\n",
      "Epoch 35/50\n",
      "3220/3220 [==============================] - 0s 46us/step - loss: 23.7083\n",
      "Epoch 36/50\n",
      "3220/3220 [==============================] - 0s 47us/step - loss: 23.4453\n",
      "Epoch 37/50\n",
      "3220/3220 [==============================] - 0s 48us/step - loss: 23.4979\n",
      "Epoch 38/50\n",
      "3220/3220 [==============================] - 0s 52us/step - loss: 23.9651\n",
      "Epoch 39/50\n",
      "3220/3220 [==============================] - 0s 50us/step - loss: 24.2029\n",
      "Epoch 40/50\n",
      "3220/3220 [==============================] - 0s 46us/step - loss: 23.7946\n",
      "Epoch 41/50\n",
      "3220/3220 [==============================] - 0s 47us/step - loss: 23.9133\n",
      "Epoch 42/50\n",
      "3220/3220 [==============================] - 0s 50us/step - loss: 23.6872\n",
      "Epoch 43/50\n",
      "3220/3220 [==============================] - 0s 52us/step - loss: 23.7178\n",
      "Epoch 44/50\n",
      "3220/3220 [==============================] - 0s 50us/step - loss: 23.7598\n",
      "Epoch 45/50\n",
      "3220/3220 [==============================] - 0s 49us/step - loss: 23.6894\n",
      "Epoch 46/50\n",
      "3220/3220 [==============================] - 0s 50us/step - loss: 24.3179\n",
      "Epoch 47/50\n",
      "3220/3220 [==============================] - 0s 50us/step - loss: 23.7851\n",
      "Epoch 48/50\n",
      "3220/3220 [==============================] - 0s 49us/step - loss: 23.6836\n",
      "Epoch 49/50\n",
      "3220/3220 [==============================] - 0s 50us/step - loss: 23.9504\n",
      "Epoch 50/50\n",
      "3220/3220 [==============================] - 0s 47us/step - loss: 24.3647\n",
      "iteration 3\n"
     ]
    },
    {
     "name": "stderr",
     "output_type": "stream",
     "text": [
      "/usr/local/lib/python3.6/dist-packages/sklearn/decomposition/_fastica.py:119: ConvergenceWarning: FastICA did not converge. Consider increasing tolerance or the maximum number of iterations.\n",
      "  ConvergenceWarning)\n",
      "/usr/local/lib/python3.6/dist-packages/scipy/signal/spectral.py:1966: UserWarning: nperseg = 256 is greater than input length  = 178, using nperseg = 178\n",
      "  .format(nperseg, input_length))\n"
     ]
    },
    {
     "name": "stdout",
     "output_type": "stream",
     "text": [
      "Epoch 1/50\n",
      "3220/3220 [==============================] - 0s 55us/step - loss: 25.0925\n",
      "Epoch 2/50\n",
      "3220/3220 [==============================] - 0s 48us/step - loss: 24.0394\n",
      "Epoch 3/50\n",
      "3220/3220 [==============================] - 0s 47us/step - loss: 24.1415\n",
      "Epoch 4/50\n",
      "3220/3220 [==============================] - 0s 50us/step - loss: 24.5979\n",
      "Epoch 5/50\n",
      "3220/3220 [==============================] - 0s 49us/step - loss: 24.4734\n",
      "Epoch 6/50\n",
      "3220/3220 [==============================] - 0s 47us/step - loss: 24.2694\n",
      "Epoch 7/50\n",
      "3220/3220 [==============================] - 0s 49us/step - loss: 24.1848\n",
      "Epoch 8/50\n",
      "3220/3220 [==============================] - 0s 50us/step - loss: 24.6451\n",
      "Epoch 9/50\n",
      "3220/3220 [==============================] - 0s 47us/step - loss: 24.2141\n",
      "Epoch 10/50\n",
      "3220/3220 [==============================] - 0s 53us/step - loss: 23.8653\n",
      "Epoch 11/50\n",
      "3220/3220 [==============================] - 0s 47us/step - loss: 23.8922\n",
      "Epoch 12/50\n",
      "3220/3220 [==============================] - 0s 51us/step - loss: 24.4695\n",
      "Epoch 13/50\n",
      "3220/3220 [==============================] - 0s 50us/step - loss: 24.7733\n",
      "Epoch 14/50\n",
      "3220/3220 [==============================] - 0s 47us/step - loss: 23.8936\n",
      "Epoch 15/50\n",
      "3220/3220 [==============================] - 0s 51us/step - loss: 24.2098\n",
      "Epoch 16/50\n",
      "3220/3220 [==============================] - 0s 49us/step - loss: 24.3029\n",
      "Epoch 17/50\n",
      "3220/3220 [==============================] - 0s 48us/step - loss: 24.3193\n",
      "Epoch 18/50\n",
      "3220/3220 [==============================] - 0s 50us/step - loss: 24.0893\n",
      "Epoch 19/50\n",
      "3220/3220 [==============================] - 0s 50us/step - loss: 24.0328\n",
      "Epoch 20/50\n",
      "3220/3220 [==============================] - 0s 47us/step - loss: 24.0854\n",
      "Epoch 21/50\n",
      "3220/3220 [==============================] - 0s 51us/step - loss: 24.4085\n",
      "Epoch 22/50\n",
      "3220/3220 [==============================] - 0s 53us/step - loss: 24.2301\n",
      "Epoch 23/50\n",
      "3220/3220 [==============================] - 0s 53us/step - loss: 24.4593\n",
      "Epoch 24/50\n",
      "3220/3220 [==============================] - 0s 52us/step - loss: 24.4652\n",
      "Epoch 25/50\n",
      "3220/3220 [==============================] - 0s 49us/step - loss: 24.3465\n",
      "Epoch 26/50\n",
      "3220/3220 [==============================] - 0s 50us/step - loss: 24.2103\n",
      "Epoch 27/50\n",
      "3220/3220 [==============================] - 0s 50us/step - loss: 24.1014\n",
      "Epoch 28/50\n",
      "3220/3220 [==============================] - 0s 50us/step - loss: 24.2468\n",
      "Epoch 29/50\n",
      "3220/3220 [==============================] - 0s 50us/step - loss: 24.1050\n",
      "Epoch 30/50\n",
      "3220/3220 [==============================] - 0s 50us/step - loss: 24.0675\n",
      "Epoch 31/50\n",
      "3220/3220 [==============================] - 0s 51us/step - loss: 24.2217\n",
      "Epoch 32/50\n",
      "3220/3220 [==============================] - 0s 50us/step - loss: 23.4721\n",
      "Epoch 33/50\n",
      "3220/3220 [==============================] - 0s 52us/step - loss: 24.5120\n",
      "Epoch 34/50\n",
      "3220/3220 [==============================] - 0s 50us/step - loss: 24.1821\n",
      "Epoch 35/50\n",
      "3220/3220 [==============================] - 0s 51us/step - loss: 24.4109\n",
      "Epoch 36/50\n",
      "3220/3220 [==============================] - 0s 51us/step - loss: 24.3933\n",
      "Epoch 37/50\n",
      "3220/3220 [==============================] - 0s 50us/step - loss: 24.3074\n",
      "Epoch 38/50\n",
      "3220/3220 [==============================] - 0s 50us/step - loss: 24.1670\n",
      "Epoch 39/50\n",
      "3220/3220 [==============================] - 0s 51us/step - loss: 23.9352\n",
      "Epoch 40/50\n",
      "3220/3220 [==============================] - 0s 49us/step - loss: 24.4557\n",
      "Epoch 41/50\n",
      "3220/3220 [==============================] - 0s 50us/step - loss: 24.5902\n",
      "Epoch 42/50\n",
      "3220/3220 [==============================] - 0s 51us/step - loss: 24.4018\n",
      "Epoch 43/50\n",
      "3220/3220 [==============================] - 0s 52us/step - loss: 24.2678\n",
      "Epoch 44/50\n",
      "3220/3220 [==============================] - 0s 52us/step - loss: 23.8282\n",
      "Epoch 45/50\n",
      "3220/3220 [==============================] - 0s 50us/step - loss: 23.8601\n",
      "Epoch 46/50\n",
      "3220/3220 [==============================] - 0s 53us/step - loss: 24.1733\n",
      "Epoch 47/50\n",
      "3220/3220 [==============================] - 0s 54us/step - loss: 24.1792\n",
      "Epoch 48/50\n",
      "3220/3220 [==============================] - 0s 49us/step - loss: 24.6090\n",
      "Epoch 49/50\n",
      "3220/3220 [==============================] - 0s 51us/step - loss: 24.4289\n",
      "Epoch 50/50\n",
      "3220/3220 [==============================] - 0s 50us/step - loss: 24.1594\n",
      "iteration 4\n"
     ]
    },
    {
     "name": "stderr",
     "output_type": "stream",
     "text": [
      "/usr/local/lib/python3.6/dist-packages/sklearn/decomposition/_fastica.py:119: ConvergenceWarning: FastICA did not converge. Consider increasing tolerance or the maximum number of iterations.\n",
      "  ConvergenceWarning)\n",
      "/usr/local/lib/python3.6/dist-packages/scipy/signal/spectral.py:1966: UserWarning: nperseg = 256 is greater than input length  = 178, using nperseg = 178\n",
      "  .format(nperseg, input_length))\n"
     ]
    },
    {
     "name": "stdout",
     "output_type": "stream",
     "text": [
      "Epoch 1/50\n",
      "3220/3220 [==============================] - 0s 51us/step - loss: 24.2347\n",
      "Epoch 2/50\n",
      "3220/3220 [==============================] - 0s 49us/step - loss: 23.9741\n",
      "Epoch 3/50\n",
      "3220/3220 [==============================] - 0s 47us/step - loss: 23.6475\n",
      "Epoch 4/50\n",
      "3220/3220 [==============================] - 0s 51us/step - loss: 24.5557\n",
      "Epoch 5/50\n",
      "3220/3220 [==============================] - 0s 47us/step - loss: 24.0737\n",
      "Epoch 6/50\n",
      "3220/3220 [==============================] - 0s 47us/step - loss: 24.3615\n",
      "Epoch 7/50\n",
      "3220/3220 [==============================] - 0s 49us/step - loss: 24.3317\n",
      "Epoch 8/50\n",
      "3220/3220 [==============================] - 0s 49us/step - loss: 24.0051\n",
      "Epoch 9/50\n",
      "3220/3220 [==============================] - 0s 46us/step - loss: 24.0833\n",
      "Epoch 10/50\n",
      "3220/3220 [==============================] - 0s 46us/step - loss: 23.9989\n",
      "Epoch 11/50\n",
      "3220/3220 [==============================] - 0s 53us/step - loss: 23.8567\n",
      "Epoch 12/50\n",
      "3220/3220 [==============================] - 0s 50us/step - loss: 24.1531\n",
      "Epoch 13/50\n",
      "3220/3220 [==============================] - 0s 56us/step - loss: 24.1246\n",
      "Epoch 14/50\n",
      "3220/3220 [==============================] - 0s 52us/step - loss: 24.1903\n",
      "Epoch 15/50\n",
      "3220/3220 [==============================] - 0s 49us/step - loss: 23.8508\n",
      "Epoch 16/50\n",
      "3220/3220 [==============================] - 0s 46us/step - loss: 24.1782\n",
      "Epoch 17/50\n",
      "3220/3220 [==============================] - 0s 47us/step - loss: 24.1712\n",
      "Epoch 18/50\n",
      "3220/3220 [==============================] - 0s 48us/step - loss: 24.3415\n",
      "Epoch 19/50\n",
      "3220/3220 [==============================] - 0s 46us/step - loss: 23.6127\n",
      "Epoch 20/50\n",
      "3220/3220 [==============================] - 0s 47us/step - loss: 23.7552\n",
      "Epoch 21/50\n",
      "3220/3220 [==============================] - 0s 53us/step - loss: 23.7843\n",
      "Epoch 22/50\n",
      "3220/3220 [==============================] - 0s 47us/step - loss: 24.1585\n",
      "Epoch 23/50\n",
      "3220/3220 [==============================] - 0s 48us/step - loss: 23.9856\n",
      "Epoch 24/50\n",
      "3220/3220 [==============================] - 0s 48us/step - loss: 23.9883\n",
      "Epoch 25/50\n",
      "3220/3220 [==============================] - 0s 47us/step - loss: 24.1142\n",
      "Epoch 26/50\n",
      "3220/3220 [==============================] - 0s 49us/step - loss: 24.0218\n",
      "Epoch 27/50\n",
      "3220/3220 [==============================] - 0s 49us/step - loss: 23.8878\n",
      "Epoch 28/50\n",
      "3220/3220 [==============================] - 0s 47us/step - loss: 24.3113\n",
      "Epoch 29/50\n",
      "3220/3220 [==============================] - 0s 47us/step - loss: 23.8094\n",
      "Epoch 30/50\n",
      "3220/3220 [==============================] - 0s 50us/step - loss: 23.7950\n",
      "Epoch 31/50\n",
      "3220/3220 [==============================] - 0s 48us/step - loss: 24.1508\n",
      "Epoch 32/50\n",
      "3220/3220 [==============================] - 0s 48us/step - loss: 23.7459\n",
      "Epoch 33/50\n",
      "3220/3220 [==============================] - 0s 47us/step - loss: 24.1902\n",
      "Epoch 34/50\n",
      "3220/3220 [==============================] - 0s 49us/step - loss: 24.0944\n",
      "Epoch 35/50\n",
      "3220/3220 [==============================] - 0s 46us/step - loss: 23.7574\n",
      "Epoch 36/50\n",
      "3220/3220 [==============================] - 0s 50us/step - loss: 23.8131\n",
      "Epoch 37/50\n",
      "3220/3220 [==============================] - 0s 50us/step - loss: 24.1112\n",
      "Epoch 38/50\n",
      "3220/3220 [==============================] - 0s 55us/step - loss: 23.9776\n",
      "Epoch 39/50\n",
      "3220/3220 [==============================] - 0s 49us/step - loss: 23.9300\n",
      "Epoch 40/50\n",
      "3220/3220 [==============================] - 0s 49us/step - loss: 23.8836\n",
      "Epoch 41/50\n",
      "3220/3220 [==============================] - 0s 47us/step - loss: 24.0468\n",
      "Epoch 42/50\n",
      "3220/3220 [==============================] - 0s 47us/step - loss: 23.8354\n",
      "Epoch 43/50\n",
      "3220/3220 [==============================] - 0s 53us/step - loss: 24.2882\n",
      "Epoch 44/50\n",
      "3220/3220 [==============================] - 0s 49us/step - loss: 24.3272\n",
      "Epoch 45/50\n",
      "3220/3220 [==============================] - 0s 48us/step - loss: 23.7456\n",
      "Epoch 46/50\n",
      "3220/3220 [==============================] - 0s 49us/step - loss: 23.9352\n",
      "Epoch 47/50\n",
      "3220/3220 [==============================] - 0s 46us/step - loss: 24.1450\n",
      "Epoch 48/50\n",
      "3220/3220 [==============================] - 0s 47us/step - loss: 23.9298\n",
      "Epoch 49/50\n",
      "3220/3220 [==============================] - 0s 50us/step - loss: 24.0634\n",
      "Epoch 50/50\n",
      "3220/3220 [==============================] - 0s 48us/step - loss: 24.1203\n",
      "iteration 5\n"
     ]
    },
    {
     "name": "stderr",
     "output_type": "stream",
     "text": [
      "/usr/local/lib/python3.6/dist-packages/sklearn/decomposition/_fastica.py:119: ConvergenceWarning: FastICA did not converge. Consider increasing tolerance or the maximum number of iterations.\n",
      "  ConvergenceWarning)\n",
      "/usr/local/lib/python3.6/dist-packages/scipy/signal/spectral.py:1966: UserWarning: nperseg = 256 is greater than input length  = 178, using nperseg = 178\n",
      "  .format(nperseg, input_length))\n"
     ]
    },
    {
     "name": "stdout",
     "output_type": "stream",
     "text": [
      "Epoch 1/50\n",
      "3220/3220 [==============================] - 0s 50us/step - loss: 24.7905\n",
      "Epoch 2/50\n",
      "3220/3220 [==============================] - 0s 49us/step - loss: 23.9391\n",
      "Epoch 3/50\n",
      "3220/3220 [==============================] - 0s 50us/step - loss: 24.4267\n",
      "Epoch 4/50\n",
      "3220/3220 [==============================] - 0s 48us/step - loss: 24.4962\n",
      "Epoch 5/50\n",
      "3220/3220 [==============================] - 0s 49us/step - loss: 24.1183\n",
      "Epoch 6/50\n",
      "3220/3220 [==============================] - 0s 46us/step - loss: 24.4686\n",
      "Epoch 7/50\n",
      "3220/3220 [==============================] - 0s 47us/step - loss: 23.8869\n",
      "Epoch 8/50\n",
      "3220/3220 [==============================] - 0s 55us/step - loss: 24.3607\n",
      "Epoch 9/50\n",
      "3220/3220 [==============================] - 0s 48us/step - loss: 24.0107\n",
      "Epoch 10/50\n",
      "3220/3220 [==============================] - 0s 48us/step - loss: 24.0977\n",
      "Epoch 11/50\n",
      "3220/3220 [==============================] - 0s 52us/step - loss: 24.5087\n",
      "Epoch 12/50\n",
      "3220/3220 [==============================] - 0s 51us/step - loss: 24.4601\n",
      "Epoch 13/50\n",
      "3220/3220 [==============================] - 0s 47us/step - loss: 24.2896\n",
      "Epoch 14/50\n",
      "3220/3220 [==============================] - 0s 52us/step - loss: 24.3769\n",
      "Epoch 15/50\n",
      "3220/3220 [==============================] - 0s 51us/step - loss: 24.2014\n",
      "Epoch 16/50\n",
      "3220/3220 [==============================] - 0s 48us/step - loss: 24.4880\n",
      "Epoch 17/50\n",
      "3220/3220 [==============================] - 0s 47us/step - loss: 24.2767\n",
      "Epoch 18/50\n",
      "3220/3220 [==============================] - 0s 50us/step - loss: 24.0677\n",
      "Epoch 19/50\n",
      "3220/3220 [==============================] - 0s 47us/step - loss: 24.5481\n",
      "Epoch 20/50\n",
      "3220/3220 [==============================] - 0s 47us/step - loss: 24.2137\n",
      "Epoch 21/50\n",
      "3220/3220 [==============================] - 0s 47us/step - loss: 23.9259\n",
      "Epoch 22/50\n",
      "3220/3220 [==============================] - 0s 50us/step - loss: 23.9367\n",
      "Epoch 23/50\n",
      "3220/3220 [==============================] - 0s 48us/step - loss: 24.5001\n",
      "Epoch 24/50\n",
      "3220/3220 [==============================] - 0s 54us/step - loss: 24.2436\n",
      "Epoch 25/50\n",
      "3220/3220 [==============================] - 0s 47us/step - loss: 24.1870\n",
      "Epoch 26/50\n",
      "3220/3220 [==============================] - 0s 50us/step - loss: 23.7227\n",
      "Epoch 27/50\n",
      "3220/3220 [==============================] - 0s 47us/step - loss: 23.9483\n",
      "Epoch 28/50\n",
      "3220/3220 [==============================] - 0s 47us/step - loss: 24.3705\n",
      "Epoch 29/50\n",
      "3220/3220 [==============================] - 0s 47us/step - loss: 23.8675\n",
      "Epoch 30/50\n",
      "3220/3220 [==============================] - 0s 48us/step - loss: 23.7254\n",
      "Epoch 31/50\n",
      "3220/3220 [==============================] - 0s 56us/step - loss: 24.2173\n",
      "Epoch 32/50\n",
      "3220/3220 [==============================] - 0s 50us/step - loss: 24.1983\n",
      "Epoch 33/50\n",
      "3220/3220 [==============================] - 0s 48us/step - loss: 24.3555\n",
      "Epoch 34/50\n",
      "3220/3220 [==============================] - 0s 48us/step - loss: 24.2434\n",
      "Epoch 35/50\n",
      "3220/3220 [==============================] - 0s 46us/step - loss: 24.4329\n",
      "Epoch 36/50\n",
      "3220/3220 [==============================] - 0s 48us/step - loss: 24.3094\n",
      "Epoch 37/50\n",
      "3220/3220 [==============================] - 0s 49us/step - loss: 24.1471\n",
      "Epoch 38/50\n",
      "3220/3220 [==============================] - 0s 47us/step - loss: 24.4735\n",
      "Epoch 39/50\n",
      "3220/3220 [==============================] - 0s 47us/step - loss: 23.9961\n",
      "Epoch 40/50\n",
      "3220/3220 [==============================] - 0s 47us/step - loss: 24.1056\n",
      "Epoch 41/50\n",
      "3220/3220 [==============================] - 0s 46us/step - loss: 24.4374\n",
      "Epoch 42/50\n",
      "3220/3220 [==============================] - 0s 50us/step - loss: 24.1075\n",
      "Epoch 43/50\n",
      "3220/3220 [==============================] - 0s 52us/step - loss: 24.1019\n",
      "Epoch 44/50\n",
      "3220/3220 [==============================] - 0s 49us/step - loss: 24.1768\n",
      "Epoch 45/50\n",
      "3220/3220 [==============================] - 0s 46us/step - loss: 24.3324\n",
      "Epoch 46/50\n",
      "3220/3220 [==============================] - 0s 46us/step - loss: 24.2463\n",
      "Epoch 47/50\n",
      "3220/3220 [==============================] - 0s 46us/step - loss: 24.6494\n",
      "Epoch 48/50\n",
      "3220/3220 [==============================] - 0s 46us/step - loss: 23.9664\n",
      "Epoch 49/50\n",
      "3220/3220 [==============================] - 0s 45us/step - loss: 24.2164\n",
      "Epoch 50/50\n",
      "3220/3220 [==============================] - 0s 50us/step - loss: 24.3935\n",
      "iteration 6\n"
     ]
    },
    {
     "name": "stderr",
     "output_type": "stream",
     "text": [
      "/usr/local/lib/python3.6/dist-packages/sklearn/decomposition/_fastica.py:119: ConvergenceWarning: FastICA did not converge. Consider increasing tolerance or the maximum number of iterations.\n",
      "  ConvergenceWarning)\n",
      "/usr/local/lib/python3.6/dist-packages/scipy/signal/spectral.py:1966: UserWarning: nperseg = 256 is greater than input length  = 178, using nperseg = 178\n",
      "  .format(nperseg, input_length))\n"
     ]
    },
    {
     "name": "stdout",
     "output_type": "stream",
     "text": [
      "Epoch 1/50\n",
      "3220/3220 [==============================] - 0s 48us/step - loss: 24.0993\n",
      "Epoch 2/50\n",
      "3220/3220 [==============================] - 0s 47us/step - loss: 23.7198\n",
      "Epoch 3/50\n",
      "3220/3220 [==============================] - 0s 46us/step - loss: 23.5552\n",
      "Epoch 4/50\n",
      "3220/3220 [==============================] - 0s 47us/step - loss: 23.1782\n",
      "Epoch 5/50\n",
      "3220/3220 [==============================] - 0s 46us/step - loss: 23.4513\n",
      "Epoch 6/50\n",
      "3220/3220 [==============================] - 0s 45us/step - loss: 23.4892\n",
      "Epoch 7/50\n",
      "3220/3220 [==============================] - 0s 45us/step - loss: 23.9177\n",
      "Epoch 8/50\n",
      "3220/3220 [==============================] - 0s 51us/step - loss: 23.3648\n",
      "Epoch 9/50\n",
      "3220/3220 [==============================] - 0s 47us/step - loss: 23.6644\n",
      "Epoch 10/50\n",
      "3220/3220 [==============================] - 0s 47us/step - loss: 23.5565\n",
      "Epoch 11/50\n",
      "3220/3220 [==============================] - 0s 46us/step - loss: 23.4620\n",
      "Epoch 12/50\n",
      "3220/3220 [==============================] - 0s 47us/step - loss: 23.4888\n",
      "Epoch 13/50\n",
      "3220/3220 [==============================] - 0s 50us/step - loss: 23.2488\n",
      "Epoch 14/50\n",
      "3220/3220 [==============================] - 0s 47us/step - loss: 23.6522\n",
      "Epoch 15/50\n",
      "3220/3220 [==============================] - 0s 54us/step - loss: 23.6137\n",
      "Epoch 16/50\n",
      "3220/3220 [==============================] - 0s 51us/step - loss: 23.5247\n",
      "Epoch 17/50\n",
      "3220/3220 [==============================] - 0s 47us/step - loss: 23.6911\n",
      "Epoch 18/50\n",
      "3220/3220 [==============================] - 0s 47us/step - loss: 23.9090\n",
      "Epoch 19/50\n",
      "3220/3220 [==============================] - 0s 47us/step - loss: 23.6110\n",
      "Epoch 20/50\n",
      "3220/3220 [==============================] - 0s 49us/step - loss: 23.8518\n",
      "Epoch 21/50\n",
      "3220/3220 [==============================] - 0s 48us/step - loss: 23.3689\n",
      "Epoch 22/50\n",
      "3220/3220 [==============================] - 0s 47us/step - loss: 23.1904\n",
      "Epoch 23/50\n",
      "3220/3220 [==============================] - 0s 49us/step - loss: 23.6033\n",
      "Epoch 24/50\n",
      "3220/3220 [==============================] - 0s 47us/step - loss: 23.5829\n",
      "Epoch 25/50\n",
      "3220/3220 [==============================] - 0s 52us/step - loss: 23.5593\n",
      "Epoch 26/50\n",
      "3220/3220 [==============================] - 0s 47us/step - loss: 23.3792\n",
      "Epoch 27/50\n",
      "3220/3220 [==============================] - 0s 50us/step - loss: 23.7784\n",
      "Epoch 28/50\n",
      "3220/3220 [==============================] - 0s 47us/step - loss: 23.2323\n",
      "Epoch 29/50\n",
      "3220/3220 [==============================] - 0s 47us/step - loss: 23.4854\n",
      "Epoch 30/50\n",
      "3220/3220 [==============================] - 0s 46us/step - loss: 23.6538\n",
      "Epoch 31/50\n",
      "3220/3220 [==============================] - 0s 46us/step - loss: 23.5406\n",
      "Epoch 32/50\n",
      "3220/3220 [==============================] - 0s 47us/step - loss: 23.4726\n",
      "Epoch 33/50\n",
      "3220/3220 [==============================] - 0s 45us/step - loss: 23.5658\n",
      "Epoch 34/50\n",
      "3220/3220 [==============================] - 0s 51us/step - loss: 23.4420\n",
      "Epoch 35/50\n",
      "3220/3220 [==============================] - 0s 48us/step - loss: 23.5109\n",
      "Epoch 36/50\n",
      "3220/3220 [==============================] - 0s 46us/step - loss: 23.7036\n",
      "Epoch 37/50\n",
      "3220/3220 [==============================] - 0s 47us/step - loss: 23.4870\n",
      "Epoch 38/50\n",
      "3220/3220 [==============================] - 0s 47us/step - loss: 23.6593\n",
      "Epoch 39/50\n",
      "3220/3220 [==============================] - 0s 47us/step - loss: 23.6445\n",
      "Epoch 40/50\n",
      "3220/3220 [==============================] - 0s 54us/step - loss: 23.1720\n",
      "Epoch 41/50\n",
      "3220/3220 [==============================] - 0s 50us/step - loss: 23.4810\n",
      "Epoch 42/50\n",
      "3220/3220 [==============================] - 0s 46us/step - loss: 23.3660\n",
      "Epoch 43/50\n",
      "3220/3220 [==============================] - 0s 45us/step - loss: 23.3630\n",
      "Epoch 44/50\n",
      "3220/3220 [==============================] - 0s 47us/step - loss: 23.7508\n",
      "Epoch 45/50\n",
      "3220/3220 [==============================] - 0s 48us/step - loss: 23.3116\n",
      "Epoch 46/50\n",
      "3220/3220 [==============================] - 0s 49us/step - loss: 23.2323\n",
      "Epoch 47/50\n",
      "3220/3220 [==============================] - 0s 50us/step - loss: 23.7715\n",
      "Epoch 48/50\n",
      "3220/3220 [==============================] - 0s 48us/step - loss: 23.5435\n",
      "Epoch 49/50\n",
      "3220/3220 [==============================] - 0s 48us/step - loss: 23.4094\n",
      "Epoch 50/50\n",
      "3220/3220 [==============================] - 0s 47us/step - loss: 23.5827\n",
      "iteration 7\n"
     ]
    },
    {
     "name": "stderr",
     "output_type": "stream",
     "text": [
      "/usr/local/lib/python3.6/dist-packages/sklearn/decomposition/_fastica.py:119: ConvergenceWarning: FastICA did not converge. Consider increasing tolerance or the maximum number of iterations.\n",
      "  ConvergenceWarning)\n",
      "/usr/local/lib/python3.6/dist-packages/scipy/signal/spectral.py:1966: UserWarning: nperseg = 256 is greater than input length  = 178, using nperseg = 178\n",
      "  .format(nperseg, input_length))\n"
     ]
    },
    {
     "name": "stdout",
     "output_type": "stream",
     "text": [
      "Epoch 1/50\n",
      "3220/3220 [==============================] - 0s 47us/step - loss: 24.6765\n",
      "Epoch 2/50\n",
      "3220/3220 [==============================] - 0s 46us/step - loss: 24.0375\n",
      "Epoch 3/50\n",
      "3220/3220 [==============================] - 0s 47us/step - loss: 23.9226\n",
      "Epoch 4/50\n",
      "3220/3220 [==============================] - 0s 48us/step - loss: 24.1041\n",
      "Epoch 5/50\n",
      "3220/3220 [==============================] - 0s 47us/step - loss: 23.9140\n",
      "Epoch 6/50\n",
      "3220/3220 [==============================] - 0s 46us/step - loss: 24.1980\n",
      "Epoch 7/50\n",
      "3220/3220 [==============================] - 0s 49us/step - loss: 23.9518\n",
      "Epoch 8/50\n",
      "3220/3220 [==============================] - 0s 45us/step - loss: 23.9341\n",
      "Epoch 9/50\n",
      "3220/3220 [==============================] - 0s 45us/step - loss: 23.7926\n",
      "Epoch 10/50\n",
      "3220/3220 [==============================] - 0s 50us/step - loss: 23.9158\n",
      "Epoch 11/50\n",
      "3220/3220 [==============================] - 0s 49us/step - loss: 24.0662\n",
      "Epoch 12/50\n",
      "3220/3220 [==============================] - 0s 47us/step - loss: 23.7884\n",
      "Epoch 13/50\n",
      "3220/3220 [==============================] - 0s 47us/step - loss: 23.9046\n",
      "Epoch 14/50\n",
      "3220/3220 [==============================] - 0s 51us/step - loss: 23.6764\n",
      "Epoch 15/50\n",
      "3220/3220 [==============================] - 0s 49us/step - loss: 24.0441\n",
      "Epoch 16/50\n",
      "3220/3220 [==============================] - 0s 52us/step - loss: 23.6359\n",
      "Epoch 17/50\n",
      "3220/3220 [==============================] - 0s 49us/step - loss: 23.9908\n",
      "Epoch 18/50\n",
      "3220/3220 [==============================] - 0s 50us/step - loss: 23.9635\n",
      "Epoch 19/50\n",
      "3220/3220 [==============================] - 0s 50us/step - loss: 24.1296\n",
      "Epoch 20/50\n",
      "3220/3220 [==============================] - 0s 48us/step - loss: 23.5698\n",
      "Epoch 21/50\n",
      "3220/3220 [==============================] - 0s 46us/step - loss: 24.1917\n",
      "Epoch 22/50\n",
      "3220/3220 [==============================] - 0s 47us/step - loss: 23.8370\n",
      "Epoch 23/50\n",
      "3220/3220 [==============================] - 0s 51us/step - loss: 23.6306\n",
      "Epoch 24/50\n",
      "3220/3220 [==============================] - 0s 49us/step - loss: 24.2115\n",
      "Epoch 25/50\n",
      "3220/3220 [==============================] - 0s 46us/step - loss: 23.7485\n",
      "Epoch 26/50\n",
      "3220/3220 [==============================] - 0s 48us/step - loss: 23.9651\n",
      "Epoch 27/50\n",
      "3220/3220 [==============================] - 0s 48us/step - loss: 23.8018\n",
      "Epoch 28/50\n",
      "3220/3220 [==============================] - 0s 49us/step - loss: 23.9407\n",
      "Epoch 29/50\n",
      "3220/3220 [==============================] - 0s 52us/step - loss: 23.9884\n",
      "Epoch 30/50\n",
      "3220/3220 [==============================] - 0s 48us/step - loss: 23.6655\n",
      "Epoch 31/50\n",
      "3220/3220 [==============================] - 0s 48us/step - loss: 24.3716\n",
      "Epoch 32/50\n",
      "3220/3220 [==============================] - 0s 49us/step - loss: 24.1090\n",
      "Epoch 33/50\n",
      "3220/3220 [==============================] - 0s 47us/step - loss: 23.6524\n",
      "Epoch 34/50\n",
      "3220/3220 [==============================] - 0s 46us/step - loss: 23.9779\n",
      "Epoch 35/50\n",
      "3220/3220 [==============================] - 0s 51us/step - loss: 23.8662\n",
      "Epoch 36/50\n",
      "3220/3220 [==============================] - 0s 50us/step - loss: 24.0742\n",
      "Epoch 37/50\n",
      "3220/3220 [==============================] - 0s 46us/step - loss: 24.0917\n",
      "Epoch 38/50\n",
      "3220/3220 [==============================] - 0s 47us/step - loss: 24.2759\n",
      "Epoch 39/50\n",
      "3220/3220 [==============================] - 0s 47us/step - loss: 24.1989\n",
      "Epoch 40/50\n",
      "3220/3220 [==============================] - 0s 48us/step - loss: 23.7740\n",
      "Epoch 41/50\n",
      "3220/3220 [==============================] - 0s 47us/step - loss: 24.0788\n",
      "Epoch 42/50\n",
      "3220/3220 [==============================] - 0s 52us/step - loss: 24.0575\n",
      "Epoch 43/50\n",
      "3220/3220 [==============================] - 0s 46us/step - loss: 23.9140\n",
      "Epoch 44/50\n",
      "3220/3220 [==============================] - 0s 50us/step - loss: 24.0889\n",
      "Epoch 45/50\n",
      "3220/3220 [==============================] - 0s 50us/step - loss: 24.2790\n",
      "Epoch 46/50\n",
      "3220/3220 [==============================] - 0s 48us/step - loss: 24.2527\n",
      "Epoch 47/50\n",
      "3220/3220 [==============================] - 0s 50us/step - loss: 24.2021\n",
      "Epoch 48/50\n",
      "3220/3220 [==============================] - 0s 51us/step - loss: 23.9010\n",
      "Epoch 49/50\n",
      "3220/3220 [==============================] - 0s 50us/step - loss: 24.0501\n",
      "Epoch 50/50\n",
      "3220/3220 [==============================] - 0s 47us/step - loss: 24.0267\n",
      "iteration 8\n"
     ]
    },
    {
     "name": "stderr",
     "output_type": "stream",
     "text": [
      "/usr/local/lib/python3.6/dist-packages/sklearn/decomposition/_fastica.py:119: ConvergenceWarning: FastICA did not converge. Consider increasing tolerance or the maximum number of iterations.\n",
      "  ConvergenceWarning)\n",
      "/usr/local/lib/python3.6/dist-packages/scipy/signal/spectral.py:1966: UserWarning: nperseg = 256 is greater than input length  = 178, using nperseg = 178\n",
      "  .format(nperseg, input_length))\n"
     ]
    },
    {
     "name": "stdout",
     "output_type": "stream",
     "text": [
      "Epoch 1/50\n",
      "3220/3220 [==============================] - 0s 54us/step - loss: 24.5623\n",
      "Epoch 2/50\n",
      "3220/3220 [==============================] - 0s 47us/step - loss: 23.4305\n",
      "Epoch 3/50\n",
      "3220/3220 [==============================] - 0s 46us/step - loss: 23.9666\n",
      "Epoch 4/50\n",
      "3220/3220 [==============================] - 0s 47us/step - loss: 23.9584\n",
      "Epoch 5/50\n",
      "3220/3220 [==============================] - 0s 50us/step - loss: 23.8854\n",
      "Epoch 6/50\n",
      "3220/3220 [==============================] - 0s 50us/step - loss: 23.7561\n",
      "Epoch 7/50\n",
      "3220/3220 [==============================] - 0s 47us/step - loss: 23.6680\n",
      "Epoch 8/50\n",
      "3220/3220 [==============================] - 0s 48us/step - loss: 23.7356\n",
      "Epoch 9/50\n",
      "3220/3220 [==============================] - 0s 46us/step - loss: 23.7288\n",
      "Epoch 10/50\n",
      "3220/3220 [==============================] - 0s 50us/step - loss: 23.5725\n",
      "Epoch 11/50\n",
      "3220/3220 [==============================] - 0s 50us/step - loss: 23.8785\n",
      "Epoch 12/50\n",
      "3220/3220 [==============================] - 0s 49us/step - loss: 24.0625\n",
      "Epoch 13/50\n",
      "3220/3220 [==============================] - 0s 47us/step - loss: 23.7600\n",
      "Epoch 14/50\n",
      "3220/3220 [==============================] - 0s 49us/step - loss: 23.6393\n",
      "Epoch 15/50\n",
      "3220/3220 [==============================] - 0s 49us/step - loss: 24.2427\n",
      "Epoch 16/50\n",
      "3220/3220 [==============================] - 0s 49us/step - loss: 23.9318\n",
      "Epoch 17/50\n",
      "3220/3220 [==============================] - 0s 51us/step - loss: 23.9975\n",
      "Epoch 18/50\n",
      "3220/3220 [==============================] - 0s 48us/step - loss: 23.8321\n",
      "Epoch 19/50\n",
      "3220/3220 [==============================] - 0s 49us/step - loss: 23.5736\n",
      "Epoch 20/50\n",
      "3220/3220 [==============================] - 0s 50us/step - loss: 24.2073\n",
      "Epoch 21/50\n",
      "3220/3220 [==============================] - 0s 49us/step - loss: 24.0370\n",
      "Epoch 22/50\n",
      "3220/3220 [==============================] - 0s 46us/step - loss: 23.8872\n",
      "Epoch 23/50\n",
      "3220/3220 [==============================] - 0s 47us/step - loss: 23.7435\n",
      "Epoch 24/50\n",
      "3220/3220 [==============================] - 0s 49us/step - loss: 24.0666\n",
      "Epoch 25/50\n",
      "3220/3220 [==============================] - 0s 47us/step - loss: 23.5893\n",
      "Epoch 26/50\n",
      "3220/3220 [==============================] - 0s 47us/step - loss: 24.1507\n",
      "Epoch 27/50\n",
      "3220/3220 [==============================] - 0s 47us/step - loss: 23.8197\n",
      "Epoch 28/50\n",
      "3220/3220 [==============================] - 0s 50us/step - loss: 23.6395\n",
      "Epoch 29/50\n",
      "3220/3220 [==============================] - 0s 48us/step - loss: 24.0667\n",
      "Epoch 30/50\n",
      "3220/3220 [==============================] - 0s 49us/step - loss: 23.7049\n",
      "Epoch 31/50\n",
      "3220/3220 [==============================] - 0s 46us/step - loss: 24.0232\n",
      "Epoch 32/50\n",
      "3220/3220 [==============================] - 0s 49us/step - loss: 23.6141\n",
      "Epoch 33/50\n",
      "3220/3220 [==============================] - 0s 47us/step - loss: 23.7706\n",
      "Epoch 34/50\n",
      "3220/3220 [==============================] - 0s 46us/step - loss: 23.4522\n",
      "Epoch 35/50\n",
      "3220/3220 [==============================] - 0s 46us/step - loss: 23.9032\n",
      "Epoch 36/50\n",
      "3220/3220 [==============================] - 0s 48us/step - loss: 23.4811\n",
      "Epoch 37/50\n",
      "3220/3220 [==============================] - 0s 49us/step - loss: 23.6059\n",
      "Epoch 38/50\n",
      "3220/3220 [==============================] - 0s 50us/step - loss: 23.8606\n",
      "Epoch 39/50\n",
      "3220/3220 [==============================] - 0s 47us/step - loss: 23.9896\n",
      "Epoch 40/50\n",
      "3220/3220 [==============================] - 0s 50us/step - loss: 23.7063\n",
      "Epoch 41/50\n",
      "3220/3220 [==============================] - 0s 46us/step - loss: 23.9836\n",
      "Epoch 42/50\n",
      "3220/3220 [==============================] - 0s 47us/step - loss: 23.6582\n",
      "Epoch 43/50\n",
      "3220/3220 [==============================] - 0s 48us/step - loss: 23.6110\n",
      "Epoch 44/50\n",
      "3220/3220 [==============================] - 0s 49us/step - loss: 23.8298\n",
      "Epoch 45/50\n",
      "3220/3220 [==============================] - 0s 49us/step - loss: 23.7464\n",
      "Epoch 46/50\n",
      "3220/3220 [==============================] - 0s 50us/step - loss: 23.7999\n",
      "Epoch 47/50\n",
      "3220/3220 [==============================] - 0s 49us/step - loss: 23.6295\n",
      "Epoch 48/50\n",
      "3220/3220 [==============================] - 0s 47us/step - loss: 24.0798\n",
      "Epoch 49/50\n",
      "3220/3220 [==============================] - 0s 51us/step - loss: 23.6799\n",
      "Epoch 50/50\n",
      "3220/3220 [==============================] - 0s 47us/step - loss: 23.7769\n",
      "iteration 9\n"
     ]
    },
    {
     "name": "stderr",
     "output_type": "stream",
     "text": [
      "/usr/local/lib/python3.6/dist-packages/sklearn/decomposition/_fastica.py:119: ConvergenceWarning: FastICA did not converge. Consider increasing tolerance or the maximum number of iterations.\n",
      "  ConvergenceWarning)\n",
      "/usr/local/lib/python3.6/dist-packages/scipy/signal/spectral.py:1966: UserWarning: nperseg = 256 is greater than input length  = 178, using nperseg = 178\n",
      "  .format(nperseg, input_length))\n"
     ]
    },
    {
     "name": "stdout",
     "output_type": "stream",
     "text": [
      "Epoch 1/50\n",
      "3220/3220 [==============================] - 0s 50us/step - loss: 24.1494\n",
      "Epoch 2/50\n",
      "3220/3220 [==============================] - 0s 47us/step - loss: 24.1129\n",
      "Epoch 3/50\n",
      "3220/3220 [==============================] - 0s 46us/step - loss: 23.9962\n",
      "Epoch 4/50\n",
      "3220/3220 [==============================] - 0s 50us/step - loss: 23.8246\n",
      "Epoch 5/50\n",
      "3220/3220 [==============================] - 0s 51us/step - loss: 23.8939\n",
      "Epoch 6/50\n",
      "3220/3220 [==============================] - 0s 48us/step - loss: 23.5326\n",
      "Epoch 7/50\n",
      "3220/3220 [==============================] - 0s 49us/step - loss: 23.8988\n",
      "Epoch 8/50\n",
      "3220/3220 [==============================] - 0s 49us/step - loss: 24.2359\n",
      "Epoch 9/50\n",
      "3220/3220 [==============================] - 0s 47us/step - loss: 24.0135\n",
      "Epoch 10/50\n",
      "3220/3220 [==============================] - 0s 48us/step - loss: 23.8503\n",
      "Epoch 11/50\n",
      "3220/3220 [==============================] - 0s 48us/step - loss: 23.9417\n",
      "Epoch 12/50\n",
      "3220/3220 [==============================] - 0s 49us/step - loss: 23.8711\n",
      "Epoch 13/50\n",
      "3220/3220 [==============================] - 0s 47us/step - loss: 23.9494\n",
      "Epoch 14/50\n",
      "3220/3220 [==============================] - 0s 50us/step - loss: 23.9042\n",
      "Epoch 15/50\n",
      "3220/3220 [==============================] - 0s 48us/step - loss: 24.0280\n",
      "Epoch 16/50\n",
      "3220/3220 [==============================] - 0s 47us/step - loss: 23.6798\n",
      "Epoch 17/50\n",
      "3220/3220 [==============================] - 0s 49us/step - loss: 23.6142\n",
      "Epoch 18/50\n",
      "3220/3220 [==============================] - 0s 51us/step - loss: 23.8691\n",
      "Epoch 19/50\n",
      "3220/3220 [==============================] - 0s 48us/step - loss: 24.0003\n",
      "Epoch 20/50\n",
      "3220/3220 [==============================] - 0s 46us/step - loss: 23.5323\n",
      "Epoch 21/50\n",
      "3220/3220 [==============================] - 0s 48us/step - loss: 24.1962\n",
      "Epoch 22/50\n",
      "3220/3220 [==============================] - 0s 47us/step - loss: 23.9776\n",
      "Epoch 23/50\n",
      "3220/3220 [==============================] - 0s 51us/step - loss: 23.5420\n",
      "Epoch 24/50\n",
      "3220/3220 [==============================] - 0s 45us/step - loss: 23.8433\n",
      "Epoch 25/50\n",
      "3220/3220 [==============================] - 0s 46us/step - loss: 23.7457\n",
      "Epoch 26/50\n",
      "3220/3220 [==============================] - 0s 48us/step - loss: 23.7201\n",
      "Epoch 27/50\n",
      "3220/3220 [==============================] - 0s 47us/step - loss: 23.8407\n",
      "Epoch 28/50\n",
      "3220/3220 [==============================] - 0s 45us/step - loss: 24.0449\n",
      "Epoch 29/50\n",
      "3220/3220 [==============================] - 0s 45us/step - loss: 23.9064\n",
      "Epoch 30/50\n",
      "3220/3220 [==============================] - 0s 53us/step - loss: 23.9314\n",
      "Epoch 31/50\n",
      "3220/3220 [==============================] - 0s 51us/step - loss: 23.6350\n",
      "Epoch 32/50\n",
      "3220/3220 [==============================] - 0s 49us/step - loss: 23.9518\n",
      "Epoch 33/50\n",
      "3220/3220 [==============================] - 0s 47us/step - loss: 23.6048\n",
      "Epoch 34/50\n",
      "3220/3220 [==============================] - 0s 49us/step - loss: 24.1835\n",
      "Epoch 35/50\n",
      "3220/3220 [==============================] - 0s 47us/step - loss: 23.4686\n",
      "Epoch 36/50\n",
      "3220/3220 [==============================] - 0s 48us/step - loss: 23.8434\n",
      "Epoch 37/50\n",
      "3220/3220 [==============================] - 0s 49us/step - loss: 23.9063\n",
      "Epoch 38/50\n",
      "3220/3220 [==============================] - 0s 50us/step - loss: 23.6430\n",
      "Epoch 39/50\n",
      "3220/3220 [==============================] - 0s 51us/step - loss: 23.7459\n",
      "Epoch 40/50\n",
      "3220/3220 [==============================] - 0s 51us/step - loss: 24.0649\n",
      "Epoch 41/50\n",
      "3220/3220 [==============================] - 0s 47us/step - loss: 23.3933\n",
      "Epoch 42/50\n",
      "3220/3220 [==============================] - 0s 49us/step - loss: 24.0148\n",
      "Epoch 43/50\n",
      "3220/3220 [==============================] - 0s 47us/step - loss: 23.7488\n",
      "Epoch 44/50\n",
      "3220/3220 [==============================] - 0s 48us/step - loss: 23.6239\n",
      "Epoch 45/50\n",
      "3220/3220 [==============================] - 0s 46us/step - loss: 24.0122\n",
      "Epoch 46/50\n",
      "3220/3220 [==============================] - 0s 48us/step - loss: 23.9681\n",
      "Epoch 47/50\n",
      "3220/3220 [==============================] - 0s 53us/step - loss: 23.9570\n",
      "Epoch 48/50\n",
      "3220/3220 [==============================] - 0s 47us/step - loss: 23.6777\n",
      "Epoch 49/50\n",
      "3220/3220 [==============================] - 0s 48us/step - loss: 23.8822\n",
      "Epoch 50/50\n",
      "3220/3220 [==============================] - 0s 48us/step - loss: 23.9564\n"
     ]
    },
    {
     "data": {
      "image/png": "[encoded data removed]",
      "text/plain": [
       "<Figure size 432x288 with 1 Axes>"
      ]
     },
     "metadata": {
      "needs_background": "light",
      "tags": []
     },
     "output_type": "display_data"
    },
    {
     "data": {
      "image/png": "[encoded data removed]",
      "text/plain": [
       "<Figure size 432x288 with 1 Axes>"
      ]
     },
     "metadata": {
      "needs_background": "light",
      "tags": []
     },
     "output_type": "display_data"
    }
   ],
   "source": [
    "# main function for implementing model\n",
    "# the model is implemented in three phases as mentioned in paper\n",
    "i = 0\n",
    "# running for 10sets of data as splited by K-fold \n",
    "for train_index , test_index in ss.split(X,Y):\n",
    "  print('iteration '+str(i))\n",
    "  i+=1\n",
    "  # phase 1 preparing data\n",
    "  X_train, X_test = X[train_index], X[test_index]\n",
    "  y_train, y_test = Y[train_index], Y[test_index]\n",
    "  X_train1,X_test1 = featuresICA(X_train,X_test)\n",
    "  X_train2,X_test2 = featurespsds(X_train,X_test)\n",
    "  # done preparing data\n",
    "  #time to train\n",
    "  # phase 2 training the model\n",
    "  newmodel.fit([X_train1,X_train2],y_train,epochs = 50 , batch_size=20)\n",
    "  # phase 3 tuning the model \n",
    "  W1,W2 = findweights(X_test1, X_test2)\n",
    "  Ypred = newmodel.predict([X_test1,X_test2])\n",
    "  Ypred = W1 * Ypred[:,0] + W2 * Ypred[:,1]\n",
    "   \n",
    "  # graphs (ROC , precision vs recall) are ploted in 10th step in 10-fold cross validation\n",
    "  if i==10:\n",
    "   \n",
    "    fpr , tpr , thrs = roc_curve(y_test , Ypred)\n",
    "    plt.plot(fpr , tpr)\n",
    "    plt.title('ROC curve for ABCD vs E')\n",
    "    plt.xlabel('False positive rate')\n",
    "    plt.ylabel('True positive rate')\n",
    "    plt.savefig('ROC ABCD vs E.png')\n",
    "    plt.show()\n",
    "\n",
    "    precision , recall , thrs = precision_recall_curve(y_test  , Ypred)\n",
    "    plt.plot(recall , precision)\n",
    "    plt.title('Precision vs Recall for ABCD vs E')\n",
    "    plt.xlabel('Recall')\n",
    "    plt.ylabel('Precision')\n",
    "    plt.savefig('PvsR_ABCD vs E.png')   \n",
    "    plt.show() \n",
    "\n",
    "\n",
    "    \n",
    "  \n",
    "  # finding values of different metrics mentioned in table[2] of paper\n",
    "  # let us find precision and recall\n",
    "  auc_score+=findauc(Ypred,y_test)\n",
    "  #now lets find the best threshold value \n",
    "  threshold = findthrs(y_test,Ypred)\n",
    "  Ypred = np.where(Ypred>=threshold,1,-1)\n",
    "  # now let's evaluate the model\n",
    "  # let's us find the confusion matrix from which we can find values\n",
    "  cm = confusion_matrix(y_test,Ypred)\n",
    "  specificity += cm[1][1]/(cm[0][1]+cm[1][1])\n",
    "  sensitivity += cm[0][0]/(cm[0][0]+cm[1][0])\n",
    "  accuracy += (cm[0][0] + cm[1][1])/(cm[0][0]+ cm[0][1] + cm[1][0] + cm[1][1])\n",
    "  precision = (cm[0][0]/(cm[0][0]+cm[0][1]))\n",
    "  recall = cm[1][1] /(cm[1][1]+cm[1][0])\n",
    "  f1 = 2.0 * ( precision * recall)/(precision + recall)\n",
    "  f1score+=f1\n",
    "\n",
    "  \n",
    "  "
   ]
  },
  {
   "cell_type": "code",
   "execution_count": null,
   "metadata": {
    "colab": {
     "base_uri": "https://localhost:8080/",
     "height": 102
    },
    "collapsed": false,
    "id": "5ZiMBbwGdj30",
    "outputId": "a9488d27-fdff-4301-fa0e-58dcd24cd9f4"
   },
   "outputs": [
    {
     "name": "stdout",
     "output_type": "stream",
     "text": [
      "Accuracy 99.10144927536231\n",
      "Sensitivity  99.34650258274311\n",
      "Specificity 98.86093380672592\n",
      "f1 score  0.9910028351323323\n",
      "auc value 0.9991700762974007\n"
     ]
    }
   ],
   "source": [
    " # these are the averaged values over 10 folds\n",
    "accuracy = accuracy*10\n",
    "sensitivity = sensitivity*10\n",
    "specificity = specificity*10\n",
    "f1score = f1score/10\n",
    "auc_score = auc_score/10\n",
    "print('Accuracy '+ str(accuracy))\n",
    "print('Sensitivity  '+ str(sensitivity))\n",
    "print('Specificity ' + str(specificity))\n",
    "print('f1 score  '+ str(f1score))\n",
    "print('auc value '+str(auc_score))"
   ]
  },
  {
   "cell_type": "code",
   "execution_count": null,
   "metadata": {
    "collapsed": true,
    "id": "lArFezquiYh8"
   },
   "outputs": [],
   "source": [
    "# comparing with single view SVM as mentione in paper\n",
    "# importing packages related to single view SVM\n",
    "# X,Y is data set\n",
    "from sklearn.svm import SVC\n",
    "from sklearn.model_selection import train_test_split"
   ]
  },
  {
   "cell_type": "code",
   "execution_count": null,
   "metadata": {
    "collapsed": true,
    "id": "Ciapp25TFOrE"
   },
   "outputs": [],
   "source": [
    "X_train , X_test , y_train , y_test = train_test_split(X , Y , test_size = 0.3)"
   ]
  },
  {
   "cell_type": "code",
   "execution_count": null,
   "metadata": {
    "colab": {
     "base_uri": "https://localhost:8080/",
     "height": 105
    },
    "collapsed": false,
    "id": "RQqMfqJxpYhL",
    "outputId": "65ffb393-21ac-41ab-92a5-2ea4a932345b"
   },
   "outputs": [
    {
     "name": "stderr",
     "output_type": "stream",
     "text": [
      "/usr/local/lib/python3.6/dist-packages/sklearn/decomposition/_fastica.py:119: ConvergenceWarning: FastICA did not converge. Consider increasing tolerance or the maximum number of iterations.\n",
      "  ConvergenceWarning)\n",
      "/usr/local/lib/python3.6/dist-packages/scipy/signal/spectral.py:1966: UserWarning: nperseg = 256 is greater than input length  = 178, using nperseg = 178\n",
      "  .format(nperseg, input_length))\n"
     ]
    }
   ],
   "source": [
    "# get the two views using functions\n",
    "X_train1 , X_test1 = featuresICA(X_train , X_test)\n",
    "X_train2 , X_test2 = featurespsds(X_train , X_test)"
   ]
  },
  {
   "cell_type": "code",
   "execution_count": null,
   "metadata": {
    "colab": {
     "base_uri": "https://localhost:8080/",
     "height": 88
    },
    "collapsed": false,
    "id": "ACwhT79GqIhU",
    "outputId": "12e1edbd-da15-41c6-cf36-90822ddf00ef"
   },
   "outputs": [
    {
     "name": "stderr",
     "output_type": "stream",
     "text": [
      "/usr/local/lib/python3.6/dist-packages/sklearn/utils/validation.py:760: DataConversionWarning: A column-vector y was passed when a 1d array was expected. Please change the shape of y to (n_samples, ), for example using ravel().\n",
      "  y = column_or_1d(y, warn=True)\n"
     ]
    },
    {
     "name": "stdout",
     "output_type": "stream",
     "text": [
      "89.4927536231884\n"
     ]
    }
   ],
   "source": [
    "#Time domain single view SVM\n",
    "svm1 = SVC()\n",
    "svm1.fit(X_train1 , y_train)\n",
    "ypred1 = svm1.predict(X_test1)\n",
    "print(100*accuracy_score(y_test , ypred1))"
   ]
  },
  {
   "cell_type": "code",
   "execution_count": null,
   "metadata": {
    "colab": {
     "base_uri": "https://localhost:8080/",
     "height": 88
    },
    "collapsed": false,
    "id": "E__lzSZCqde2",
    "outputId": "ebb2a646-60c3-4a91-fd8d-dd570919b3d4"
   },
   "outputs": [
    {
     "name": "stderr",
     "output_type": "stream",
     "text": [
      "/usr/local/lib/python3.6/dist-packages/sklearn/utils/validation.py:760: DataConversionWarning: A column-vector y was passed when a 1d array was expected. Please change the shape of y to (n_samples, ), for example using ravel().\n",
      "  y = column_or_1d(y, warn=True)\n"
     ]
    },
    {
     "name": "stdout",
     "output_type": "stream",
     "text": [
      "96.66666666666667\n"
     ]
    }
   ],
   "source": [
    "#Frequency domain single view SVM\n",
    "svm2 = SVC()\n",
    "svm2.fit(X_train2 , y_train)\n",
    "ypred2 = svm2.predict(X_test2)\n",
    "print(100*accuracy_score(y_test , ypred2))"
   ]
  },
  {
   "cell_type": "code",
   "execution_count": null,
   "metadata": {
    "colab": {
     "base_uri": "https://localhost:8080/",
     "height": 88
    },
    "collapsed": false,
    "id": "Egqv1l3MqjYm",
    "outputId": "1c12d71c-2a07-451d-eb17-00c69a505cda"
   },
   "outputs": [
    {
     "name": "stderr",
     "output_type": "stream",
     "text": [
      "/usr/local/lib/python3.6/dist-packages/sklearn/utils/validation.py:760: DataConversionWarning: A column-vector y was passed when a 1d array was expected. Please change the shape of y to (n_samples, ), for example using ravel().\n",
      "  y = column_or_1d(y, warn=True)\n"
     ]
    },
    {
     "name": "stdout",
     "output_type": "stream",
     "text": [
      "94.05797101449276\n"
     ]
    }
   ],
   "source": [
    "# now let us concatenate both features and feed to a SVM\n",
    "X_train_con = np.concatenate((X_train1 , X_train2) , axis = 1)\n",
    "X_test_con = np.concatenate((X_test1 , X_test2) , axis = 1)\n",
    "svm3 = SVC()\n",
    "svm3.fit(X_train_con , y_train)\n",
    "ypred3 = svm3.predict(X_test_con)\n",
    "print(100*accuracy_score(y_test , ypred3))"
   ]
  },
  {
   "cell_type": "code",
   "execution_count": null,
   "metadata": {
    "collapsed": true,
    "id": "1echsIHatAFK"
   },
   "outputs": [],
   "source": []
  }
 ],
 "metadata": {
  "anaconda-cloud": {},
  "colab": {
   "collapsed_sections": [],
   "name": "multi view SVM.ipynb",
   "provenance": []
  },
  "kernelspec": {
   "display_name": "Python 3",
   "name": "python3"
  }
 },
 "nbformat": 4,
 "nbformat_minor": 0
}
